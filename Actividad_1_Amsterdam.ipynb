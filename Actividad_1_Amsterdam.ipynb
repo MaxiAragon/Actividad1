{
  "nbformat": 4,
  "nbformat_minor": 0,
  "metadata": {
    "colab": {
      "provenance": [],
      "collapsed_sections": [],
      "authorship_tag": "ABX9TyPdq9ONiPVm3tBg34bGQvts",
      "include_colab_link": true
    },
    "kernelspec": {
      "name": "python3",
      "display_name": "Python 3"
    },
    "language_info": {
      "name": "python"
    }
  },
  "cells": [
    {
      "cell_type": "markdown",
      "metadata": {
        "id": "view-in-github",
        "colab_type": "text"
      },
      "source": [
        "<a href=\"https://colab.research.google.com/github/MaxiAragon/Actividad1/blob/main/Actividad_1_Amsterdam.ipynb\" target=\"_parent\"><img src=\"https://colab.research.google.com/assets/colab-badge.svg\" alt=\"Open In Colab\"/></a>"
      ]
    },
    {
      "cell_type": "markdown",
      "source": [
        "#**Actividad 1**\n",
        "##**Maximiliano Aragón Fragoso**\n",
        "##**A01702063**"
      ],
      "metadata": {
        "id": "2gsxlZzPAwaZ"
      }
    },
    {
      "cell_type": "markdown",
      "source": [
        "1. Crear un nuevo repositorio nuevo con el nombre: Actividad 1"
      ],
      "metadata": {
        "id": "13_YNE5Mmc-K"
      }
    },
    {
      "cell_type": "code",
      "execution_count": 1,
      "metadata": {
        "id": "Xzq9W9ck9ZTe"
      },
      "outputs": [],
      "source": [
        "import pandas as pd\n",
        "import numpy as np\n",
        "import matplotlib.pyplot as plt\n",
        "import seaborn as sns"
      ]
    },
    {
      "cell_type": "markdown",
      "source": [
        "2. Agregar el archivo: Listing.csv.gz de México ingresar a: http://insideairbnb.com/get-the-data/"
      ],
      "metadata": {
        "id": "1GtRRM8FmZwg"
      }
    },
    {
      "cell_type": "code",
      "source": [
        "df = pd.read_csv('listings_amsterdam.csv.gz')\n",
        "df.head()"
      ],
      "metadata": {
        "colab": {
          "base_uri": "https://localhost:8080/",
          "height": 646
        },
        "id": "b7Du6iFRA4V_",
        "outputId": "7bf13d3a-dae3-4ba0-ced6-fd44e735d031"
      },
      "execution_count": 2,
      "outputs": [
        {
          "output_type": "execute_result",
          "data": {
            "text/plain": [
              "      id                         listing_url       scrape_id last_scraped  \\\n",
              "0   2818   https://www.airbnb.com/rooms/2818  20220907151523   2022-09-07   \n",
              "1  20168  https://www.airbnb.com/rooms/20168  20220907151523   2022-09-07   \n",
              "2  27886  https://www.airbnb.com/rooms/27886  20220907151523   2022-09-07   \n",
              "3  28871  https://www.airbnb.com/rooms/28871  20220907151523   2022-09-07   \n",
              "4  29051  https://www.airbnb.com/rooms/29051  20220907151523   2022-09-07   \n",
              "\n",
              "            source                                               name  \\\n",
              "0      city scrape           Quiet Garden View Room & Super Fast WiFi   \n",
              "1  previous scrape       Studio with private bathroom in the centre 1   \n",
              "2      city scrape  Romantic, stylish B&B houseboat in canal district   \n",
              "3      city scrape                            Comfortable double room   \n",
              "4      city scrape                            Comfortable single room   \n",
              "\n",
              "                                         description  \\\n",
              "0  Quiet Garden View Room & Super Fast WiFi<br />...   \n",
              "1  17th century Dutch townhouse in the heart of t...   \n",
              "2  Stylish and romantic houseboat on fantastic hi...   \n",
              "3  <b>The space</b><br />In a monumental house ri...   \n",
              "4  This room can also accomodate 2 people.  For a...   \n",
              "\n",
              "                               neighborhood_overview  \\\n",
              "0  Indische Buurt (\"Indies Neighborhood\") is a ne...   \n",
              "1  Located just in between famous central canals....   \n",
              "2         Central, quiet, safe, clean and beautiful.   \n",
              "3       Flower market , Leidseplein , Rembrantsplein   \n",
              "4  the street is quite lively especially on weeke...   \n",
              "\n",
              "                                         picture_url  host_id  ...  \\\n",
              "0  https://a0.muscache.com/pictures/10272854/8dcc...     3159  ...   \n",
              "1  https://a0.muscache.com/pictures/69979628/fd6a...    59484  ...   \n",
              "2  https://a0.muscache.com/pictures/02c2da9d-660e...    97647  ...   \n",
              "3  https://a0.muscache.com/pictures/160889/362340...   124245  ...   \n",
              "4  https://a0.muscache.com/pictures/162009/bd6be2...   124245  ...   \n",
              "\n",
              "  review_scores_communication review_scores_location review_scores_value  \\\n",
              "0                        4.98                   4.69                4.82   \n",
              "1                        4.62                   4.87                4.49   \n",
              "2                        4.92                   4.89                4.79   \n",
              "3                        4.94                   4.96                4.83   \n",
              "4                        4.92                   4.87                4.77   \n",
              "\n",
              "                    license instant_bookable calculated_host_listings_count  \\\n",
              "0  0363 5F3A 5684 6750 D14D                t                              1   \n",
              "1  0363 CBB3 2C10 0C2A 1E29                t                              2   \n",
              "2  0363 974D 4986 7411 88D8                t                              1   \n",
              "3  0363 607B EA74 0BD8 2F6F                f                              2   \n",
              "4  0363 607B EA74 0BD8 2F6F                f                              2   \n",
              "\n",
              "  calculated_host_listings_count_entire_homes  \\\n",
              "0                                           0   \n",
              "1                                           0   \n",
              "2                                           0   \n",
              "3                                           0   \n",
              "4                                           0   \n",
              "\n",
              "  calculated_host_listings_count_private_rooms  \\\n",
              "0                                            1   \n",
              "1                                            2   \n",
              "2                                            1   \n",
              "3                                            2   \n",
              "4                                            2   \n",
              "\n",
              "  calculated_host_listings_count_shared_rooms reviews_per_month  \n",
              "0                                           0              1.86  \n",
              "1                                           0              2.22  \n",
              "2                                           0              1.78  \n",
              "3                                           0              2.92  \n",
              "4                                           0              4.16  \n",
              "\n",
              "[5 rows x 75 columns]"
            ],
            "text/html": [
              "\n",
              "  <div id=\"df-3f7e3f51-f72b-4367-b03b-0ae308f0c02d\">\n",
              "    <div class=\"colab-df-container\">\n",
              "      <div>\n",
              "<style scoped>\n",
              "    .dataframe tbody tr th:only-of-type {\n",
              "        vertical-align: middle;\n",
              "    }\n",
              "\n",
              "    .dataframe tbody tr th {\n",
              "        vertical-align: top;\n",
              "    }\n",
              "\n",
              "    .dataframe thead th {\n",
              "        text-align: right;\n",
              "    }\n",
              "</style>\n",
              "<table border=\"1\" class=\"dataframe\">\n",
              "  <thead>\n",
              "    <tr style=\"text-align: right;\">\n",
              "      <th></th>\n",
              "      <th>id</th>\n",
              "      <th>listing_url</th>\n",
              "      <th>scrape_id</th>\n",
              "      <th>last_scraped</th>\n",
              "      <th>source</th>\n",
              "      <th>name</th>\n",
              "      <th>description</th>\n",
              "      <th>neighborhood_overview</th>\n",
              "      <th>picture_url</th>\n",
              "      <th>host_id</th>\n",
              "      <th>...</th>\n",
              "      <th>review_scores_communication</th>\n",
              "      <th>review_scores_location</th>\n",
              "      <th>review_scores_value</th>\n",
              "      <th>license</th>\n",
              "      <th>instant_bookable</th>\n",
              "      <th>calculated_host_listings_count</th>\n",
              "      <th>calculated_host_listings_count_entire_homes</th>\n",
              "      <th>calculated_host_listings_count_private_rooms</th>\n",
              "      <th>calculated_host_listings_count_shared_rooms</th>\n",
              "      <th>reviews_per_month</th>\n",
              "    </tr>\n",
              "  </thead>\n",
              "  <tbody>\n",
              "    <tr>\n",
              "      <th>0</th>\n",
              "      <td>2818</td>\n",
              "      <td>https://www.airbnb.com/rooms/2818</td>\n",
              "      <td>20220907151523</td>\n",
              "      <td>2022-09-07</td>\n",
              "      <td>city scrape</td>\n",
              "      <td>Quiet Garden View Room &amp; Super Fast WiFi</td>\n",
              "      <td>Quiet Garden View Room &amp; Super Fast WiFi&lt;br /&gt;...</td>\n",
              "      <td>Indische Buurt (\"Indies Neighborhood\") is a ne...</td>\n",
              "      <td>https://a0.muscache.com/pictures/10272854/8dcc...</td>\n",
              "      <td>3159</td>\n",
              "      <td>...</td>\n",
              "      <td>4.98</td>\n",
              "      <td>4.69</td>\n",
              "      <td>4.82</td>\n",
              "      <td>0363 5F3A 5684 6750 D14D</td>\n",
              "      <td>t</td>\n",
              "      <td>1</td>\n",
              "      <td>0</td>\n",
              "      <td>1</td>\n",
              "      <td>0</td>\n",
              "      <td>1.86</td>\n",
              "    </tr>\n",
              "    <tr>\n",
              "      <th>1</th>\n",
              "      <td>20168</td>\n",
              "      <td>https://www.airbnb.com/rooms/20168</td>\n",
              "      <td>20220907151523</td>\n",
              "      <td>2022-09-07</td>\n",
              "      <td>previous scrape</td>\n",
              "      <td>Studio with private bathroom in the centre 1</td>\n",
              "      <td>17th century Dutch townhouse in the heart of t...</td>\n",
              "      <td>Located just in between famous central canals....</td>\n",
              "      <td>https://a0.muscache.com/pictures/69979628/fd6a...</td>\n",
              "      <td>59484</td>\n",
              "      <td>...</td>\n",
              "      <td>4.62</td>\n",
              "      <td>4.87</td>\n",
              "      <td>4.49</td>\n",
              "      <td>0363 CBB3 2C10 0C2A 1E29</td>\n",
              "      <td>t</td>\n",
              "      <td>2</td>\n",
              "      <td>0</td>\n",
              "      <td>2</td>\n",
              "      <td>0</td>\n",
              "      <td>2.22</td>\n",
              "    </tr>\n",
              "    <tr>\n",
              "      <th>2</th>\n",
              "      <td>27886</td>\n",
              "      <td>https://www.airbnb.com/rooms/27886</td>\n",
              "      <td>20220907151523</td>\n",
              "      <td>2022-09-07</td>\n",
              "      <td>city scrape</td>\n",
              "      <td>Romantic, stylish B&amp;B houseboat in canal district</td>\n",
              "      <td>Stylish and romantic houseboat on fantastic hi...</td>\n",
              "      <td>Central, quiet, safe, clean and beautiful.</td>\n",
              "      <td>https://a0.muscache.com/pictures/02c2da9d-660e...</td>\n",
              "      <td>97647</td>\n",
              "      <td>...</td>\n",
              "      <td>4.92</td>\n",
              "      <td>4.89</td>\n",
              "      <td>4.79</td>\n",
              "      <td>0363 974D 4986 7411 88D8</td>\n",
              "      <td>t</td>\n",
              "      <td>1</td>\n",
              "      <td>0</td>\n",
              "      <td>1</td>\n",
              "      <td>0</td>\n",
              "      <td>1.78</td>\n",
              "    </tr>\n",
              "    <tr>\n",
              "      <th>3</th>\n",
              "      <td>28871</td>\n",
              "      <td>https://www.airbnb.com/rooms/28871</td>\n",
              "      <td>20220907151523</td>\n",
              "      <td>2022-09-07</td>\n",
              "      <td>city scrape</td>\n",
              "      <td>Comfortable double room</td>\n",
              "      <td>&lt;b&gt;The space&lt;/b&gt;&lt;br /&gt;In a monumental house ri...</td>\n",
              "      <td>Flower market , Leidseplein , Rembrantsplein</td>\n",
              "      <td>https://a0.muscache.com/pictures/160889/362340...</td>\n",
              "      <td>124245</td>\n",
              "      <td>...</td>\n",
              "      <td>4.94</td>\n",
              "      <td>4.96</td>\n",
              "      <td>4.83</td>\n",
              "      <td>0363 607B EA74 0BD8 2F6F</td>\n",
              "      <td>f</td>\n",
              "      <td>2</td>\n",
              "      <td>0</td>\n",
              "      <td>2</td>\n",
              "      <td>0</td>\n",
              "      <td>2.92</td>\n",
              "    </tr>\n",
              "    <tr>\n",
              "      <th>4</th>\n",
              "      <td>29051</td>\n",
              "      <td>https://www.airbnb.com/rooms/29051</td>\n",
              "      <td>20220907151523</td>\n",
              "      <td>2022-09-07</td>\n",
              "      <td>city scrape</td>\n",
              "      <td>Comfortable single room</td>\n",
              "      <td>This room can also accomodate 2 people.  For a...</td>\n",
              "      <td>the street is quite lively especially on weeke...</td>\n",
              "      <td>https://a0.muscache.com/pictures/162009/bd6be2...</td>\n",
              "      <td>124245</td>\n",
              "      <td>...</td>\n",
              "      <td>4.92</td>\n",
              "      <td>4.87</td>\n",
              "      <td>4.77</td>\n",
              "      <td>0363 607B EA74 0BD8 2F6F</td>\n",
              "      <td>f</td>\n",
              "      <td>2</td>\n",
              "      <td>0</td>\n",
              "      <td>2</td>\n",
              "      <td>0</td>\n",
              "      <td>4.16</td>\n",
              "    </tr>\n",
              "  </tbody>\n",
              "</table>\n",
              "<p>5 rows × 75 columns</p>\n",
              "</div>\n",
              "      <button class=\"colab-df-convert\" onclick=\"convertToInteractive('df-3f7e3f51-f72b-4367-b03b-0ae308f0c02d')\"\n",
              "              title=\"Convert this dataframe to an interactive table.\"\n",
              "              style=\"display:none;\">\n",
              "        \n",
              "  <svg xmlns=\"http://www.w3.org/2000/svg\" height=\"24px\"viewBox=\"0 0 24 24\"\n",
              "       width=\"24px\">\n",
              "    <path d=\"M0 0h24v24H0V0z\" fill=\"none\"/>\n",
              "    <path d=\"M18.56 5.44l.94 2.06.94-2.06 2.06-.94-2.06-.94-.94-2.06-.94 2.06-2.06.94zm-11 1L8.5 8.5l.94-2.06 2.06-.94-2.06-.94L8.5 2.5l-.94 2.06-2.06.94zm10 10l.94 2.06.94-2.06 2.06-.94-2.06-.94-.94-2.06-.94 2.06-2.06.94z\"/><path d=\"M17.41 7.96l-1.37-1.37c-.4-.4-.92-.59-1.43-.59-.52 0-1.04.2-1.43.59L10.3 9.45l-7.72 7.72c-.78.78-.78 2.05 0 2.83L4 21.41c.39.39.9.59 1.41.59.51 0 1.02-.2 1.41-.59l7.78-7.78 2.81-2.81c.8-.78.8-2.07 0-2.86zM5.41 20L4 18.59l7.72-7.72 1.47 1.35L5.41 20z\"/>\n",
              "  </svg>\n",
              "      </button>\n",
              "      \n",
              "  <style>\n",
              "    .colab-df-container {\n",
              "      display:flex;\n",
              "      flex-wrap:wrap;\n",
              "      gap: 12px;\n",
              "    }\n",
              "\n",
              "    .colab-df-convert {\n",
              "      background-color: #E8F0FE;\n",
              "      border: none;\n",
              "      border-radius: 50%;\n",
              "      cursor: pointer;\n",
              "      display: none;\n",
              "      fill: #1967D2;\n",
              "      height: 32px;\n",
              "      padding: 0 0 0 0;\n",
              "      width: 32px;\n",
              "    }\n",
              "\n",
              "    .colab-df-convert:hover {\n",
              "      background-color: #E2EBFA;\n",
              "      box-shadow: 0px 1px 2px rgba(60, 64, 67, 0.3), 0px 1px 3px 1px rgba(60, 64, 67, 0.15);\n",
              "      fill: #174EA6;\n",
              "    }\n",
              "\n",
              "    [theme=dark] .colab-df-convert {\n",
              "      background-color: #3B4455;\n",
              "      fill: #D2E3FC;\n",
              "    }\n",
              "\n",
              "    [theme=dark] .colab-df-convert:hover {\n",
              "      background-color: #434B5C;\n",
              "      box-shadow: 0px 1px 3px 1px rgba(0, 0, 0, 0.15);\n",
              "      filter: drop-shadow(0px 1px 2px rgba(0, 0, 0, 0.3));\n",
              "      fill: #FFFFFF;\n",
              "    }\n",
              "  </style>\n",
              "\n",
              "      <script>\n",
              "        const buttonEl =\n",
              "          document.querySelector('#df-3f7e3f51-f72b-4367-b03b-0ae308f0c02d button.colab-df-convert');\n",
              "        buttonEl.style.display =\n",
              "          google.colab.kernel.accessAllowed ? 'block' : 'none';\n",
              "\n",
              "        async function convertToInteractive(key) {\n",
              "          const element = document.querySelector('#df-3f7e3f51-f72b-4367-b03b-0ae308f0c02d');\n",
              "          const dataTable =\n",
              "            await google.colab.kernel.invokeFunction('convertToInteractive',\n",
              "                                                     [key], {});\n",
              "          if (!dataTable) return;\n",
              "\n",
              "          const docLinkHtml = 'Like what you see? Visit the ' +\n",
              "            '<a target=\"_blank\" href=https://colab.research.google.com/notebooks/data_table.ipynb>data table notebook</a>'\n",
              "            + ' to learn more about interactive tables.';\n",
              "          element.innerHTML = '';\n",
              "          dataTable['output_type'] = 'display_data';\n",
              "          await google.colab.output.renderOutput(dataTable, element);\n",
              "          const docLink = document.createElement('div');\n",
              "          docLink.innerHTML = docLinkHtml;\n",
              "          element.appendChild(docLink);\n",
              "        }\n",
              "      </script>\n",
              "    </div>\n",
              "  </div>\n",
              "  "
            ]
          },
          "metadata": {},
          "execution_count": 2
        }
      ]
    },
    {
      "cell_type": "code",
      "source": [
        "# Filtrar por columnas\n",
        "df1 = df.loc[:, ['number_of_reviews', 'host_acceptance_rate', 'price', 'availability_365', 'review_scores_rating', 'review_scores_cleanliness', 'review_scores_communication', 'room_type']]\n",
        "df1.head()"
      ],
      "metadata": {
        "id": "8i00abcjHSVY",
        "colab": {
          "base_uri": "https://localhost:8080/",
          "height": 357
        },
        "outputId": "dc2bb391-aef7-4d1a-a179-dfc32a936664"
      },
      "execution_count": 3,
      "outputs": [
        {
          "output_type": "execute_result",
          "data": {
            "text/plain": [
              "   number_of_reviews host_acceptance_rate    price  availability_365  \\\n",
              "0                305                 100%   $49.00                14   \n",
              "1                339                  98%  $106.00                 0   \n",
              "2                231                 100%  $136.00               121   \n",
              "3                428                 100%   $75.00               117   \n",
              "4                582                 100%   $55.00               160   \n",
              "\n",
              "   review_scores_rating  review_scores_cleanliness  \\\n",
              "0                  4.89                       5.00   \n",
              "1                  4.44                       4.79   \n",
              "2                  4.94                       4.95   \n",
              "3                  4.88                       4.89   \n",
              "4                  4.79                       4.84   \n",
              "\n",
              "   review_scores_communication     room_type  \n",
              "0                         4.98  Private room  \n",
              "1                         4.62  Private room  \n",
              "2                         4.92  Private room  \n",
              "3                         4.94  Private room  \n",
              "4                         4.92  Private room  "
            ],
            "text/html": [
              "\n",
              "  <div id=\"df-888a0c61-aae6-4d7d-a871-94dee992f32e\">\n",
              "    <div class=\"colab-df-container\">\n",
              "      <div>\n",
              "<style scoped>\n",
              "    .dataframe tbody tr th:only-of-type {\n",
              "        vertical-align: middle;\n",
              "    }\n",
              "\n",
              "    .dataframe tbody tr th {\n",
              "        vertical-align: top;\n",
              "    }\n",
              "\n",
              "    .dataframe thead th {\n",
              "        text-align: right;\n",
              "    }\n",
              "</style>\n",
              "<table border=\"1\" class=\"dataframe\">\n",
              "  <thead>\n",
              "    <tr style=\"text-align: right;\">\n",
              "      <th></th>\n",
              "      <th>number_of_reviews</th>\n",
              "      <th>host_acceptance_rate</th>\n",
              "      <th>price</th>\n",
              "      <th>availability_365</th>\n",
              "      <th>review_scores_rating</th>\n",
              "      <th>review_scores_cleanliness</th>\n",
              "      <th>review_scores_communication</th>\n",
              "      <th>room_type</th>\n",
              "    </tr>\n",
              "  </thead>\n",
              "  <tbody>\n",
              "    <tr>\n",
              "      <th>0</th>\n",
              "      <td>305</td>\n",
              "      <td>100%</td>\n",
              "      <td>$49.00</td>\n",
              "      <td>14</td>\n",
              "      <td>4.89</td>\n",
              "      <td>5.00</td>\n",
              "      <td>4.98</td>\n",
              "      <td>Private room</td>\n",
              "    </tr>\n",
              "    <tr>\n",
              "      <th>1</th>\n",
              "      <td>339</td>\n",
              "      <td>98%</td>\n",
              "      <td>$106.00</td>\n",
              "      <td>0</td>\n",
              "      <td>4.44</td>\n",
              "      <td>4.79</td>\n",
              "      <td>4.62</td>\n",
              "      <td>Private room</td>\n",
              "    </tr>\n",
              "    <tr>\n",
              "      <th>2</th>\n",
              "      <td>231</td>\n",
              "      <td>100%</td>\n",
              "      <td>$136.00</td>\n",
              "      <td>121</td>\n",
              "      <td>4.94</td>\n",
              "      <td>4.95</td>\n",
              "      <td>4.92</td>\n",
              "      <td>Private room</td>\n",
              "    </tr>\n",
              "    <tr>\n",
              "      <th>3</th>\n",
              "      <td>428</td>\n",
              "      <td>100%</td>\n",
              "      <td>$75.00</td>\n",
              "      <td>117</td>\n",
              "      <td>4.88</td>\n",
              "      <td>4.89</td>\n",
              "      <td>4.94</td>\n",
              "      <td>Private room</td>\n",
              "    </tr>\n",
              "    <tr>\n",
              "      <th>4</th>\n",
              "      <td>582</td>\n",
              "      <td>100%</td>\n",
              "      <td>$55.00</td>\n",
              "      <td>160</td>\n",
              "      <td>4.79</td>\n",
              "      <td>4.84</td>\n",
              "      <td>4.92</td>\n",
              "      <td>Private room</td>\n",
              "    </tr>\n",
              "  </tbody>\n",
              "</table>\n",
              "</div>\n",
              "      <button class=\"colab-df-convert\" onclick=\"convertToInteractive('df-888a0c61-aae6-4d7d-a871-94dee992f32e')\"\n",
              "              title=\"Convert this dataframe to an interactive table.\"\n",
              "              style=\"display:none;\">\n",
              "        \n",
              "  <svg xmlns=\"http://www.w3.org/2000/svg\" height=\"24px\"viewBox=\"0 0 24 24\"\n",
              "       width=\"24px\">\n",
              "    <path d=\"M0 0h24v24H0V0z\" fill=\"none\"/>\n",
              "    <path d=\"M18.56 5.44l.94 2.06.94-2.06 2.06-.94-2.06-.94-.94-2.06-.94 2.06-2.06.94zm-11 1L8.5 8.5l.94-2.06 2.06-.94-2.06-.94L8.5 2.5l-.94 2.06-2.06.94zm10 10l.94 2.06.94-2.06 2.06-.94-2.06-.94-.94-2.06-.94 2.06-2.06.94z\"/><path d=\"M17.41 7.96l-1.37-1.37c-.4-.4-.92-.59-1.43-.59-.52 0-1.04.2-1.43.59L10.3 9.45l-7.72 7.72c-.78.78-.78 2.05 0 2.83L4 21.41c.39.39.9.59 1.41.59.51 0 1.02-.2 1.41-.59l7.78-7.78 2.81-2.81c.8-.78.8-2.07 0-2.86zM5.41 20L4 18.59l7.72-7.72 1.47 1.35L5.41 20z\"/>\n",
              "  </svg>\n",
              "      </button>\n",
              "      \n",
              "  <style>\n",
              "    .colab-df-container {\n",
              "      display:flex;\n",
              "      flex-wrap:wrap;\n",
              "      gap: 12px;\n",
              "    }\n",
              "\n",
              "    .colab-df-convert {\n",
              "      background-color: #E8F0FE;\n",
              "      border: none;\n",
              "      border-radius: 50%;\n",
              "      cursor: pointer;\n",
              "      display: none;\n",
              "      fill: #1967D2;\n",
              "      height: 32px;\n",
              "      padding: 0 0 0 0;\n",
              "      width: 32px;\n",
              "    }\n",
              "\n",
              "    .colab-df-convert:hover {\n",
              "      background-color: #E2EBFA;\n",
              "      box-shadow: 0px 1px 2px rgba(60, 64, 67, 0.3), 0px 1px 3px 1px rgba(60, 64, 67, 0.15);\n",
              "      fill: #174EA6;\n",
              "    }\n",
              "\n",
              "    [theme=dark] .colab-df-convert {\n",
              "      background-color: #3B4455;\n",
              "      fill: #D2E3FC;\n",
              "    }\n",
              "\n",
              "    [theme=dark] .colab-df-convert:hover {\n",
              "      background-color: #434B5C;\n",
              "      box-shadow: 0px 1px 3px 1px rgba(0, 0, 0, 0.15);\n",
              "      filter: drop-shadow(0px 1px 2px rgba(0, 0, 0, 0.3));\n",
              "      fill: #FFFFFF;\n",
              "    }\n",
              "  </style>\n",
              "\n",
              "      <script>\n",
              "        const buttonEl =\n",
              "          document.querySelector('#df-888a0c61-aae6-4d7d-a871-94dee992f32e button.colab-df-convert');\n",
              "        buttonEl.style.display =\n",
              "          google.colab.kernel.accessAllowed ? 'block' : 'none';\n",
              "\n",
              "        async function convertToInteractive(key) {\n",
              "          const element = document.querySelector('#df-888a0c61-aae6-4d7d-a871-94dee992f32e');\n",
              "          const dataTable =\n",
              "            await google.colab.kernel.invokeFunction('convertToInteractive',\n",
              "                                                     [key], {});\n",
              "          if (!dataTable) return;\n",
              "\n",
              "          const docLinkHtml = 'Like what you see? Visit the ' +\n",
              "            '<a target=\"_blank\" href=https://colab.research.google.com/notebooks/data_table.ipynb>data table notebook</a>'\n",
              "            + ' to learn more about interactive tables.';\n",
              "          element.innerHTML = '';\n",
              "          dataTable['output_type'] = 'display_data';\n",
              "          await google.colab.output.renderOutput(dataTable, element);\n",
              "          const docLink = document.createElement('div');\n",
              "          docLink.innerHTML = docLinkHtml;\n",
              "          element.appendChild(docLink);\n",
              "        }\n",
              "      </script>\n",
              "    </div>\n",
              "  </div>\n",
              "  "
            ]
          },
          "metadata": {},
          "execution_count": 3
        }
      ]
    },
    {
      "cell_type": "code",
      "source": [
        "df1[\"host_acceptance_rate\"] = df1[\"host_acceptance_rate\"].str.replace(\"%\",\"\")\n",
        "df1[\"price\"] = df1[\"price\"].str.replace(\"$\",\"\")\n",
        "df1[\"price\"] = df1[\"price\"].str.replace(\",\",\"\")\n",
        "df1.head()"
      ],
      "metadata": {
        "colab": {
          "base_uri": "https://localhost:8080/",
          "height": 392
        },
        "id": "WOnEr7B4QCHb",
        "outputId": "b78a9f89-60f7-42f3-a4f5-14dd349d70f7"
      },
      "execution_count": 4,
      "outputs": [
        {
          "output_type": "stream",
          "name": "stderr",
          "text": [
            "/usr/local/lib/python3.7/dist-packages/ipykernel_launcher.py:2: FutureWarning: The default value of regex will change from True to False in a future version. In addition, single character regular expressions will *not* be treated as literal strings when regex=True.\n",
            "  \n"
          ]
        },
        {
          "output_type": "execute_result",
          "data": {
            "text/plain": [
              "   number_of_reviews host_acceptance_rate   price  availability_365  \\\n",
              "0                305                  100   49.00                14   \n",
              "1                339                   98  106.00                 0   \n",
              "2                231                  100  136.00               121   \n",
              "3                428                  100   75.00               117   \n",
              "4                582                  100   55.00               160   \n",
              "\n",
              "   review_scores_rating  review_scores_cleanliness  \\\n",
              "0                  4.89                       5.00   \n",
              "1                  4.44                       4.79   \n",
              "2                  4.94                       4.95   \n",
              "3                  4.88                       4.89   \n",
              "4                  4.79                       4.84   \n",
              "\n",
              "   review_scores_communication     room_type  \n",
              "0                         4.98  Private room  \n",
              "1                         4.62  Private room  \n",
              "2                         4.92  Private room  \n",
              "3                         4.94  Private room  \n",
              "4                         4.92  Private room  "
            ],
            "text/html": [
              "\n",
              "  <div id=\"df-66f4e6f7-3972-4350-84de-432950759995\">\n",
              "    <div class=\"colab-df-container\">\n",
              "      <div>\n",
              "<style scoped>\n",
              "    .dataframe tbody tr th:only-of-type {\n",
              "        vertical-align: middle;\n",
              "    }\n",
              "\n",
              "    .dataframe tbody tr th {\n",
              "        vertical-align: top;\n",
              "    }\n",
              "\n",
              "    .dataframe thead th {\n",
              "        text-align: right;\n",
              "    }\n",
              "</style>\n",
              "<table border=\"1\" class=\"dataframe\">\n",
              "  <thead>\n",
              "    <tr style=\"text-align: right;\">\n",
              "      <th></th>\n",
              "      <th>number_of_reviews</th>\n",
              "      <th>host_acceptance_rate</th>\n",
              "      <th>price</th>\n",
              "      <th>availability_365</th>\n",
              "      <th>review_scores_rating</th>\n",
              "      <th>review_scores_cleanliness</th>\n",
              "      <th>review_scores_communication</th>\n",
              "      <th>room_type</th>\n",
              "    </tr>\n",
              "  </thead>\n",
              "  <tbody>\n",
              "    <tr>\n",
              "      <th>0</th>\n",
              "      <td>305</td>\n",
              "      <td>100</td>\n",
              "      <td>49.00</td>\n",
              "      <td>14</td>\n",
              "      <td>4.89</td>\n",
              "      <td>5.00</td>\n",
              "      <td>4.98</td>\n",
              "      <td>Private room</td>\n",
              "    </tr>\n",
              "    <tr>\n",
              "      <th>1</th>\n",
              "      <td>339</td>\n",
              "      <td>98</td>\n",
              "      <td>106.00</td>\n",
              "      <td>0</td>\n",
              "      <td>4.44</td>\n",
              "      <td>4.79</td>\n",
              "      <td>4.62</td>\n",
              "      <td>Private room</td>\n",
              "    </tr>\n",
              "    <tr>\n",
              "      <th>2</th>\n",
              "      <td>231</td>\n",
              "      <td>100</td>\n",
              "      <td>136.00</td>\n",
              "      <td>121</td>\n",
              "      <td>4.94</td>\n",
              "      <td>4.95</td>\n",
              "      <td>4.92</td>\n",
              "      <td>Private room</td>\n",
              "    </tr>\n",
              "    <tr>\n",
              "      <th>3</th>\n",
              "      <td>428</td>\n",
              "      <td>100</td>\n",
              "      <td>75.00</td>\n",
              "      <td>117</td>\n",
              "      <td>4.88</td>\n",
              "      <td>4.89</td>\n",
              "      <td>4.94</td>\n",
              "      <td>Private room</td>\n",
              "    </tr>\n",
              "    <tr>\n",
              "      <th>4</th>\n",
              "      <td>582</td>\n",
              "      <td>100</td>\n",
              "      <td>55.00</td>\n",
              "      <td>160</td>\n",
              "      <td>4.79</td>\n",
              "      <td>4.84</td>\n",
              "      <td>4.92</td>\n",
              "      <td>Private room</td>\n",
              "    </tr>\n",
              "  </tbody>\n",
              "</table>\n",
              "</div>\n",
              "      <button class=\"colab-df-convert\" onclick=\"convertToInteractive('df-66f4e6f7-3972-4350-84de-432950759995')\"\n",
              "              title=\"Convert this dataframe to an interactive table.\"\n",
              "              style=\"display:none;\">\n",
              "        \n",
              "  <svg xmlns=\"http://www.w3.org/2000/svg\" height=\"24px\"viewBox=\"0 0 24 24\"\n",
              "       width=\"24px\">\n",
              "    <path d=\"M0 0h24v24H0V0z\" fill=\"none\"/>\n",
              "    <path d=\"M18.56 5.44l.94 2.06.94-2.06 2.06-.94-2.06-.94-.94-2.06-.94 2.06-2.06.94zm-11 1L8.5 8.5l.94-2.06 2.06-.94-2.06-.94L8.5 2.5l-.94 2.06-2.06.94zm10 10l.94 2.06.94-2.06 2.06-.94-2.06-.94-.94-2.06-.94 2.06-2.06.94z\"/><path d=\"M17.41 7.96l-1.37-1.37c-.4-.4-.92-.59-1.43-.59-.52 0-1.04.2-1.43.59L10.3 9.45l-7.72 7.72c-.78.78-.78 2.05 0 2.83L4 21.41c.39.39.9.59 1.41.59.51 0 1.02-.2 1.41-.59l7.78-7.78 2.81-2.81c.8-.78.8-2.07 0-2.86zM5.41 20L4 18.59l7.72-7.72 1.47 1.35L5.41 20z\"/>\n",
              "  </svg>\n",
              "      </button>\n",
              "      \n",
              "  <style>\n",
              "    .colab-df-container {\n",
              "      display:flex;\n",
              "      flex-wrap:wrap;\n",
              "      gap: 12px;\n",
              "    }\n",
              "\n",
              "    .colab-df-convert {\n",
              "      background-color: #E8F0FE;\n",
              "      border: none;\n",
              "      border-radius: 50%;\n",
              "      cursor: pointer;\n",
              "      display: none;\n",
              "      fill: #1967D2;\n",
              "      height: 32px;\n",
              "      padding: 0 0 0 0;\n",
              "      width: 32px;\n",
              "    }\n",
              "\n",
              "    .colab-df-convert:hover {\n",
              "      background-color: #E2EBFA;\n",
              "      box-shadow: 0px 1px 2px rgba(60, 64, 67, 0.3), 0px 1px 3px 1px rgba(60, 64, 67, 0.15);\n",
              "      fill: #174EA6;\n",
              "    }\n",
              "\n",
              "    [theme=dark] .colab-df-convert {\n",
              "      background-color: #3B4455;\n",
              "      fill: #D2E3FC;\n",
              "    }\n",
              "\n",
              "    [theme=dark] .colab-df-convert:hover {\n",
              "      background-color: #434B5C;\n",
              "      box-shadow: 0px 1px 3px 1px rgba(0, 0, 0, 0.15);\n",
              "      filter: drop-shadow(0px 1px 2px rgba(0, 0, 0, 0.3));\n",
              "      fill: #FFFFFF;\n",
              "    }\n",
              "  </style>\n",
              "\n",
              "      <script>\n",
              "        const buttonEl =\n",
              "          document.querySelector('#df-66f4e6f7-3972-4350-84de-432950759995 button.colab-df-convert');\n",
              "        buttonEl.style.display =\n",
              "          google.colab.kernel.accessAllowed ? 'block' : 'none';\n",
              "\n",
              "        async function convertToInteractive(key) {\n",
              "          const element = document.querySelector('#df-66f4e6f7-3972-4350-84de-432950759995');\n",
              "          const dataTable =\n",
              "            await google.colab.kernel.invokeFunction('convertToInteractive',\n",
              "                                                     [key], {});\n",
              "          if (!dataTable) return;\n",
              "\n",
              "          const docLinkHtml = 'Like what you see? Visit the ' +\n",
              "            '<a target=\"_blank\" href=https://colab.research.google.com/notebooks/data_table.ipynb>data table notebook</a>'\n",
              "            + ' to learn more about interactive tables.';\n",
              "          element.innerHTML = '';\n",
              "          dataTable['output_type'] = 'display_data';\n",
              "          await google.colab.output.renderOutput(dataTable, element);\n",
              "          const docLink = document.createElement('div');\n",
              "          docLink.innerHTML = docLinkHtml;\n",
              "          element.appendChild(docLink);\n",
              "        }\n",
              "      </script>\n",
              "    </div>\n",
              "  </div>\n",
              "  "
            ]
          },
          "metadata": {},
          "execution_count": 4
        }
      ]
    },
    {
      "cell_type": "markdown",
      "source": [
        "3. Realiza las acciones de preprocesamiento necesarias: Nulos y Outliers"
      ],
      "metadata": {
        "id": "Rb6EsBmomTGV"
      }
    },
    {
      "cell_type": "code",
      "source": [
        "df1.info()"
      ],
      "metadata": {
        "id": "uzyTYR2dJO36",
        "colab": {
          "base_uri": "https://localhost:8080/"
        },
        "outputId": "f9524d8a-2bc6-4a62-a3f4-b2d7b235ce2b"
      },
      "execution_count": 5,
      "outputs": [
        {
          "output_type": "stream",
          "name": "stdout",
          "text": [
            "<class 'pandas.core.frame.DataFrame'>\n",
            "RangeIndex: 6893 entries, 0 to 6892\n",
            "Data columns (total 8 columns):\n",
            " #   Column                       Non-Null Count  Dtype  \n",
            "---  ------                       --------------  -----  \n",
            " 0   number_of_reviews            6893 non-null   int64  \n",
            " 1   host_acceptance_rate         6031 non-null   object \n",
            " 2   price                        6893 non-null   object \n",
            " 3   availability_365             6893 non-null   int64  \n",
            " 4   review_scores_rating         6247 non-null   float64\n",
            " 5   review_scores_cleanliness    6242 non-null   float64\n",
            " 6   review_scores_communication  6242 non-null   float64\n",
            " 7   room_type                    6893 non-null   object \n",
            "dtypes: float64(3), int64(2), object(3)\n",
            "memory usage: 430.9+ KB\n"
          ]
        }
      ]
    },
    {
      "cell_type": "code",
      "source": [
        "df1['host_acceptance_rate'] = df1['host_acceptance_rate'].astype('float64')\n",
        "df1['price'] = df1['price'].astype('float64')\n",
        "df1.info()"
      ],
      "metadata": {
        "colab": {
          "base_uri": "https://localhost:8080/"
        },
        "id": "NOs3HfjtQRB_",
        "outputId": "8e85be6b-3a40-43a1-8bc4-32e88c825540"
      },
      "execution_count": 6,
      "outputs": [
        {
          "output_type": "stream",
          "name": "stdout",
          "text": [
            "<class 'pandas.core.frame.DataFrame'>\n",
            "RangeIndex: 6893 entries, 0 to 6892\n",
            "Data columns (total 8 columns):\n",
            " #   Column                       Non-Null Count  Dtype  \n",
            "---  ------                       --------------  -----  \n",
            " 0   number_of_reviews            6893 non-null   int64  \n",
            " 1   host_acceptance_rate         6031 non-null   float64\n",
            " 2   price                        6893 non-null   float64\n",
            " 3   availability_365             6893 non-null   int64  \n",
            " 4   review_scores_rating         6247 non-null   float64\n",
            " 5   review_scores_cleanliness    6242 non-null   float64\n",
            " 6   review_scores_communication  6242 non-null   float64\n",
            " 7   room_type                    6893 non-null   object \n",
            "dtypes: float64(5), int64(2), object(1)\n",
            "memory usage: 430.9+ KB\n"
          ]
        }
      ]
    },
    {
      "cell_type": "code",
      "source": [
        "df1['review_scores_rating'].fillna(df1['review_scores_rating'].mean(), inplace = True)\n",
        "df1['review_scores_cleanliness'].fillna(df1['review_scores_cleanliness'].mean(), inplace = True)\n",
        "df1['host_acceptance_rate'].fillna(df1['host_acceptance_rate'].mean(), inplace = True)\n",
        "df1['review_scores_communication'].fillna(df1['review_scores_communication'].mean(), inplace = True)"
      ],
      "metadata": {
        "id": "M9uKJ17PHJMi"
      },
      "execution_count": 7,
      "outputs": []
    },
    {
      "cell_type": "code",
      "source": [
        "df1.info()"
      ],
      "metadata": {
        "colab": {
          "base_uri": "https://localhost:8080/"
        },
        "id": "Sv7IeQ9EHdLa",
        "outputId": "ecf6395f-085b-4bc2-d477-359ddbe5bab7"
      },
      "execution_count": 8,
      "outputs": [
        {
          "output_type": "stream",
          "name": "stdout",
          "text": [
            "<class 'pandas.core.frame.DataFrame'>\n",
            "RangeIndex: 6893 entries, 0 to 6892\n",
            "Data columns (total 8 columns):\n",
            " #   Column                       Non-Null Count  Dtype  \n",
            "---  ------                       --------------  -----  \n",
            " 0   number_of_reviews            6893 non-null   int64  \n",
            " 1   host_acceptance_rate         6893 non-null   float64\n",
            " 2   price                        6893 non-null   float64\n",
            " 3   availability_365             6893 non-null   int64  \n",
            " 4   review_scores_rating         6893 non-null   float64\n",
            " 5   review_scores_cleanliness    6893 non-null   float64\n",
            " 6   review_scores_communication  6893 non-null   float64\n",
            " 7   room_type                    6893 non-null   object \n",
            "dtypes: float64(5), int64(2), object(1)\n",
            "memory usage: 430.9+ KB\n"
          ]
        }
      ]
    },
    {
      "cell_type": "code",
      "source": [
        "y = df1\n",
        "\n",
        "percentile25=y.quantile(0.25) #Q1\n",
        "percentile75=y.quantile(0.75) #Q3\n",
        "iqr= percentile75 - percentile25\n",
        "\n",
        "Limite_Superior_iqr= percentile75 + 1.5*iqr\n",
        "Limite_Inferior_iqr= percentile25 - 1.5*iqr\n",
        "print(\"Limite superior permitido\", Limite_Superior_iqr)\n",
        "print(\"Limite inferior permitido\", Limite_Inferior_iqr)"
      ],
      "metadata": {
        "colab": {
          "base_uri": "https://localhost:8080/"
        },
        "id": "5t_SmrxYQZ1t",
        "outputId": "ae572b32-3004-4909-b196-56a4344bee14"
      },
      "execution_count": 9,
      "outputs": [
        {
          "output_type": "stream",
          "name": "stdout",
          "text": [
            "Limite superior permitido number_of_reviews              109.00\n",
            "host_acceptance_rate           143.50\n",
            "price                          472.50\n",
            "availability_365               380.00\n",
            "review_scores_rating             5.36\n",
            "review_scores_cleanliness        5.42\n",
            "review_scores_communication      5.18\n",
            "dtype: float64\n",
            "Limite inferior permitido number_of_reviews              -59.00\n",
            "host_acceptance_rate            27.50\n",
            "price                          -83.50\n",
            "availability_365              -228.00\n",
            "review_scores_rating             4.40\n",
            "review_scores_cleanliness        4.22\n",
            "review_scores_communication      4.70\n",
            "dtype: float64\n"
          ]
        }
      ]
    },
    {
      "cell_type": "code",
      "source": [
        "df2 = df1[(y<=Limite_Superior_iqr)&(y>=Limite_Inferior_iqr)]\n",
        "df2"
      ],
      "metadata": {
        "colab": {
          "base_uri": "https://localhost:8080/",
          "height": 522
        },
        "id": "SQjyQx3gRSPO",
        "outputId": "7c4ddec9-de44-422f-eb92-a0873ae861c5"
      },
      "execution_count": 10,
      "outputs": [
        {
          "output_type": "stream",
          "name": "stderr",
          "text": [
            "/usr/local/lib/python3.7/dist-packages/ipykernel_launcher.py:1: FutureWarning: Automatic reindexing on DataFrame vs Series comparisons is deprecated and will raise ValueError in a future version.  Do `left, right = left.align(right, axis=1, copy=False)` before e.g. `left == right`\n",
            "  \"\"\"Entry point for launching an IPython kernel.\n"
          ]
        },
        {
          "output_type": "execute_result",
          "data": {
            "text/plain": [
              "      number_of_reviews  host_acceptance_rate  price  availability_365  \\\n",
              "0                   NaN                 100.0   49.0                14   \n",
              "1                   NaN                  98.0  106.0                 0   \n",
              "2                   NaN                 100.0  136.0               121   \n",
              "3                   NaN                 100.0   75.0               117   \n",
              "4                   NaN                 100.0   55.0               160   \n",
              "...                 ...                   ...    ...               ...   \n",
              "6888               28.0                 100.0  300.0                 0   \n",
              "6889               18.0                  50.0  195.0                 0   \n",
              "6890               21.0                 100.0  449.0                 0   \n",
              "6891                8.0                   NaN  282.0                 0   \n",
              "6892               22.0                  36.0  200.0                 0   \n",
              "\n",
              "      review_scores_rating  review_scores_cleanliness  \\\n",
              "0                     4.89                       5.00   \n",
              "1                     4.44                       4.79   \n",
              "2                     4.94                       4.95   \n",
              "3                     4.88                       4.89   \n",
              "4                     4.79                       4.84   \n",
              "...                    ...                        ...   \n",
              "6888                  4.73                       4.69   \n",
              "6889                  5.00                       4.94   \n",
              "6890                  4.90                       4.90   \n",
              "6891                  5.00                       5.00   \n",
              "6892                  4.86                       4.86   \n",
              "\n",
              "      review_scores_communication room_type  \n",
              "0                            4.98       NaN  \n",
              "1                             NaN       NaN  \n",
              "2                            4.92       NaN  \n",
              "3                            4.94       NaN  \n",
              "4                            4.92       NaN  \n",
              "...                           ...       ...  \n",
              "6888                          NaN       NaN  \n",
              "6889                         5.00       NaN  \n",
              "6890                         4.71       NaN  \n",
              "6891                         5.00       NaN  \n",
              "6892                         4.86       NaN  \n",
              "\n",
              "[6893 rows x 8 columns]"
            ],
            "text/html": [
              "\n",
              "  <div id=\"df-f1c4e02c-fa3a-4893-9904-7ef485f0d97d\">\n",
              "    <div class=\"colab-df-container\">\n",
              "      <div>\n",
              "<style scoped>\n",
              "    .dataframe tbody tr th:only-of-type {\n",
              "        vertical-align: middle;\n",
              "    }\n",
              "\n",
              "    .dataframe tbody tr th {\n",
              "        vertical-align: top;\n",
              "    }\n",
              "\n",
              "    .dataframe thead th {\n",
              "        text-align: right;\n",
              "    }\n",
              "</style>\n",
              "<table border=\"1\" class=\"dataframe\">\n",
              "  <thead>\n",
              "    <tr style=\"text-align: right;\">\n",
              "      <th></th>\n",
              "      <th>number_of_reviews</th>\n",
              "      <th>host_acceptance_rate</th>\n",
              "      <th>price</th>\n",
              "      <th>availability_365</th>\n",
              "      <th>review_scores_rating</th>\n",
              "      <th>review_scores_cleanliness</th>\n",
              "      <th>review_scores_communication</th>\n",
              "      <th>room_type</th>\n",
              "    </tr>\n",
              "  </thead>\n",
              "  <tbody>\n",
              "    <tr>\n",
              "      <th>0</th>\n",
              "      <td>NaN</td>\n",
              "      <td>100.0</td>\n",
              "      <td>49.0</td>\n",
              "      <td>14</td>\n",
              "      <td>4.89</td>\n",
              "      <td>5.00</td>\n",
              "      <td>4.98</td>\n",
              "      <td>NaN</td>\n",
              "    </tr>\n",
              "    <tr>\n",
              "      <th>1</th>\n",
              "      <td>NaN</td>\n",
              "      <td>98.0</td>\n",
              "      <td>106.0</td>\n",
              "      <td>0</td>\n",
              "      <td>4.44</td>\n",
              "      <td>4.79</td>\n",
              "      <td>NaN</td>\n",
              "      <td>NaN</td>\n",
              "    </tr>\n",
              "    <tr>\n",
              "      <th>2</th>\n",
              "      <td>NaN</td>\n",
              "      <td>100.0</td>\n",
              "      <td>136.0</td>\n",
              "      <td>121</td>\n",
              "      <td>4.94</td>\n",
              "      <td>4.95</td>\n",
              "      <td>4.92</td>\n",
              "      <td>NaN</td>\n",
              "    </tr>\n",
              "    <tr>\n",
              "      <th>3</th>\n",
              "      <td>NaN</td>\n",
              "      <td>100.0</td>\n",
              "      <td>75.0</td>\n",
              "      <td>117</td>\n",
              "      <td>4.88</td>\n",
              "      <td>4.89</td>\n",
              "      <td>4.94</td>\n",
              "      <td>NaN</td>\n",
              "    </tr>\n",
              "    <tr>\n",
              "      <th>4</th>\n",
              "      <td>NaN</td>\n",
              "      <td>100.0</td>\n",
              "      <td>55.0</td>\n",
              "      <td>160</td>\n",
              "      <td>4.79</td>\n",
              "      <td>4.84</td>\n",
              "      <td>4.92</td>\n",
              "      <td>NaN</td>\n",
              "    </tr>\n",
              "    <tr>\n",
              "      <th>...</th>\n",
              "      <td>...</td>\n",
              "      <td>...</td>\n",
              "      <td>...</td>\n",
              "      <td>...</td>\n",
              "      <td>...</td>\n",
              "      <td>...</td>\n",
              "      <td>...</td>\n",
              "      <td>...</td>\n",
              "    </tr>\n",
              "    <tr>\n",
              "      <th>6888</th>\n",
              "      <td>28.0</td>\n",
              "      <td>100.0</td>\n",
              "      <td>300.0</td>\n",
              "      <td>0</td>\n",
              "      <td>4.73</td>\n",
              "      <td>4.69</td>\n",
              "      <td>NaN</td>\n",
              "      <td>NaN</td>\n",
              "    </tr>\n",
              "    <tr>\n",
              "      <th>6889</th>\n",
              "      <td>18.0</td>\n",
              "      <td>50.0</td>\n",
              "      <td>195.0</td>\n",
              "      <td>0</td>\n",
              "      <td>5.00</td>\n",
              "      <td>4.94</td>\n",
              "      <td>5.00</td>\n",
              "      <td>NaN</td>\n",
              "    </tr>\n",
              "    <tr>\n",
              "      <th>6890</th>\n",
              "      <td>21.0</td>\n",
              "      <td>100.0</td>\n",
              "      <td>449.0</td>\n",
              "      <td>0</td>\n",
              "      <td>4.90</td>\n",
              "      <td>4.90</td>\n",
              "      <td>4.71</td>\n",
              "      <td>NaN</td>\n",
              "    </tr>\n",
              "    <tr>\n",
              "      <th>6891</th>\n",
              "      <td>8.0</td>\n",
              "      <td>NaN</td>\n",
              "      <td>282.0</td>\n",
              "      <td>0</td>\n",
              "      <td>5.00</td>\n",
              "      <td>5.00</td>\n",
              "      <td>5.00</td>\n",
              "      <td>NaN</td>\n",
              "    </tr>\n",
              "    <tr>\n",
              "      <th>6892</th>\n",
              "      <td>22.0</td>\n",
              "      <td>36.0</td>\n",
              "      <td>200.0</td>\n",
              "      <td>0</td>\n",
              "      <td>4.86</td>\n",
              "      <td>4.86</td>\n",
              "      <td>4.86</td>\n",
              "      <td>NaN</td>\n",
              "    </tr>\n",
              "  </tbody>\n",
              "</table>\n",
              "<p>6893 rows × 8 columns</p>\n",
              "</div>\n",
              "      <button class=\"colab-df-convert\" onclick=\"convertToInteractive('df-f1c4e02c-fa3a-4893-9904-7ef485f0d97d')\"\n",
              "              title=\"Convert this dataframe to an interactive table.\"\n",
              "              style=\"display:none;\">\n",
              "        \n",
              "  <svg xmlns=\"http://www.w3.org/2000/svg\" height=\"24px\"viewBox=\"0 0 24 24\"\n",
              "       width=\"24px\">\n",
              "    <path d=\"M0 0h24v24H0V0z\" fill=\"none\"/>\n",
              "    <path d=\"M18.56 5.44l.94 2.06.94-2.06 2.06-.94-2.06-.94-.94-2.06-.94 2.06-2.06.94zm-11 1L8.5 8.5l.94-2.06 2.06-.94-2.06-.94L8.5 2.5l-.94 2.06-2.06.94zm10 10l.94 2.06.94-2.06 2.06-.94-2.06-.94-.94-2.06-.94 2.06-2.06.94z\"/><path d=\"M17.41 7.96l-1.37-1.37c-.4-.4-.92-.59-1.43-.59-.52 0-1.04.2-1.43.59L10.3 9.45l-7.72 7.72c-.78.78-.78 2.05 0 2.83L4 21.41c.39.39.9.59 1.41.59.51 0 1.02-.2 1.41-.59l7.78-7.78 2.81-2.81c.8-.78.8-2.07 0-2.86zM5.41 20L4 18.59l7.72-7.72 1.47 1.35L5.41 20z\"/>\n",
              "  </svg>\n",
              "      </button>\n",
              "      \n",
              "  <style>\n",
              "    .colab-df-container {\n",
              "      display:flex;\n",
              "      flex-wrap:wrap;\n",
              "      gap: 12px;\n",
              "    }\n",
              "\n",
              "    .colab-df-convert {\n",
              "      background-color: #E8F0FE;\n",
              "      border: none;\n",
              "      border-radius: 50%;\n",
              "      cursor: pointer;\n",
              "      display: none;\n",
              "      fill: #1967D2;\n",
              "      height: 32px;\n",
              "      padding: 0 0 0 0;\n",
              "      width: 32px;\n",
              "    }\n",
              "\n",
              "    .colab-df-convert:hover {\n",
              "      background-color: #E2EBFA;\n",
              "      box-shadow: 0px 1px 2px rgba(60, 64, 67, 0.3), 0px 1px 3px 1px rgba(60, 64, 67, 0.15);\n",
              "      fill: #174EA6;\n",
              "    }\n",
              "\n",
              "    [theme=dark] .colab-df-convert {\n",
              "      background-color: #3B4455;\n",
              "      fill: #D2E3FC;\n",
              "    }\n",
              "\n",
              "    [theme=dark] .colab-df-convert:hover {\n",
              "      background-color: #434B5C;\n",
              "      box-shadow: 0px 1px 3px 1px rgba(0, 0, 0, 0.15);\n",
              "      filter: drop-shadow(0px 1px 2px rgba(0, 0, 0, 0.3));\n",
              "      fill: #FFFFFF;\n",
              "    }\n",
              "  </style>\n",
              "\n",
              "      <script>\n",
              "        const buttonEl =\n",
              "          document.querySelector('#df-f1c4e02c-fa3a-4893-9904-7ef485f0d97d button.colab-df-convert');\n",
              "        buttonEl.style.display =\n",
              "          google.colab.kernel.accessAllowed ? 'block' : 'none';\n",
              "\n",
              "        async function convertToInteractive(key) {\n",
              "          const element = document.querySelector('#df-f1c4e02c-fa3a-4893-9904-7ef485f0d97d');\n",
              "          const dataTable =\n",
              "            await google.colab.kernel.invokeFunction('convertToInteractive',\n",
              "                                                     [key], {});\n",
              "          if (!dataTable) return;\n",
              "\n",
              "          const docLinkHtml = 'Like what you see? Visit the ' +\n",
              "            '<a target=\"_blank\" href=https://colab.research.google.com/notebooks/data_table.ipynb>data table notebook</a>'\n",
              "            + ' to learn more about interactive tables.';\n",
              "          element.innerHTML = '';\n",
              "          dataTable['output_type'] = 'display_data';\n",
              "          await google.colab.output.renderOutput(dataTable, element);\n",
              "          const docLink = document.createElement('div');\n",
              "          docLink.innerHTML = docLinkHtml;\n",
              "          element.appendChild(docLink);\n",
              "        }\n",
              "      </script>\n",
              "    </div>\n",
              "  </div>\n",
              "  "
            ]
          },
          "metadata": {},
          "execution_count": 10
        }
      ]
    },
    {
      "cell_type": "code",
      "source": [
        "df3 = df2.copy()\n",
        "df3 = df3.fillna(round(df2.mean(),1))\n",
        "df3"
      ],
      "metadata": {
        "colab": {
          "base_uri": "https://localhost:8080/",
          "height": 488
        },
        "id": "pGAWU2GMRXRW",
        "outputId": "d7383479-0dd3-4bd1-967e-6cd6e89c5ff9"
      },
      "execution_count": 11,
      "outputs": [
        {
          "output_type": "execute_result",
          "data": {
            "text/plain": [
              "      number_of_reviews  host_acceptance_rate  price  availability_365  \\\n",
              "0                  20.7                 100.0   49.0                14   \n",
              "1                  20.7                  98.0  106.0                 0   \n",
              "2                  20.7                 100.0  136.0               121   \n",
              "3                  20.7                 100.0   75.0               117   \n",
              "4                  20.7                 100.0   55.0               160   \n",
              "...                 ...                   ...    ...               ...   \n",
              "6888               28.0                 100.0  300.0                 0   \n",
              "6889               18.0                  50.0  195.0                 0   \n",
              "6890               21.0                 100.0  449.0                 0   \n",
              "6891                8.0                  84.4  282.0                 0   \n",
              "6892               22.0                  36.0  200.0                 0   \n",
              "\n",
              "      review_scores_rating  review_scores_cleanliness  \\\n",
              "0                     4.89                       5.00   \n",
              "1                     4.44                       4.79   \n",
              "2                     4.94                       4.95   \n",
              "3                     4.88                       4.89   \n",
              "4                     4.79                       4.84   \n",
              "...                    ...                        ...   \n",
              "6888                  4.73                       4.69   \n",
              "6889                  5.00                       4.94   \n",
              "6890                  4.90                       4.90   \n",
              "6891                  5.00                       5.00   \n",
              "6892                  4.86                       4.86   \n",
              "\n",
              "      review_scores_communication  room_type  \n",
              "0                            4.98        NaN  \n",
              "1                            4.90        NaN  \n",
              "2                            4.92        NaN  \n",
              "3                            4.94        NaN  \n",
              "4                            4.92        NaN  \n",
              "...                           ...        ...  \n",
              "6888                         4.90        NaN  \n",
              "6889                         5.00        NaN  \n",
              "6890                         4.71        NaN  \n",
              "6891                         5.00        NaN  \n",
              "6892                         4.86        NaN  \n",
              "\n",
              "[6893 rows x 8 columns]"
            ],
            "text/html": [
              "\n",
              "  <div id=\"df-4007279b-271f-48a3-847f-5a2c05306f75\">\n",
              "    <div class=\"colab-df-container\">\n",
              "      <div>\n",
              "<style scoped>\n",
              "    .dataframe tbody tr th:only-of-type {\n",
              "        vertical-align: middle;\n",
              "    }\n",
              "\n",
              "    .dataframe tbody tr th {\n",
              "        vertical-align: top;\n",
              "    }\n",
              "\n",
              "    .dataframe thead th {\n",
              "        text-align: right;\n",
              "    }\n",
              "</style>\n",
              "<table border=\"1\" class=\"dataframe\">\n",
              "  <thead>\n",
              "    <tr style=\"text-align: right;\">\n",
              "      <th></th>\n",
              "      <th>number_of_reviews</th>\n",
              "      <th>host_acceptance_rate</th>\n",
              "      <th>price</th>\n",
              "      <th>availability_365</th>\n",
              "      <th>review_scores_rating</th>\n",
              "      <th>review_scores_cleanliness</th>\n",
              "      <th>review_scores_communication</th>\n",
              "      <th>room_type</th>\n",
              "    </tr>\n",
              "  </thead>\n",
              "  <tbody>\n",
              "    <tr>\n",
              "      <th>0</th>\n",
              "      <td>20.7</td>\n",
              "      <td>100.0</td>\n",
              "      <td>49.0</td>\n",
              "      <td>14</td>\n",
              "      <td>4.89</td>\n",
              "      <td>5.00</td>\n",
              "      <td>4.98</td>\n",
              "      <td>NaN</td>\n",
              "    </tr>\n",
              "    <tr>\n",
              "      <th>1</th>\n",
              "      <td>20.7</td>\n",
              "      <td>98.0</td>\n",
              "      <td>106.0</td>\n",
              "      <td>0</td>\n",
              "      <td>4.44</td>\n",
              "      <td>4.79</td>\n",
              "      <td>4.90</td>\n",
              "      <td>NaN</td>\n",
              "    </tr>\n",
              "    <tr>\n",
              "      <th>2</th>\n",
              "      <td>20.7</td>\n",
              "      <td>100.0</td>\n",
              "      <td>136.0</td>\n",
              "      <td>121</td>\n",
              "      <td>4.94</td>\n",
              "      <td>4.95</td>\n",
              "      <td>4.92</td>\n",
              "      <td>NaN</td>\n",
              "    </tr>\n",
              "    <tr>\n",
              "      <th>3</th>\n",
              "      <td>20.7</td>\n",
              "      <td>100.0</td>\n",
              "      <td>75.0</td>\n",
              "      <td>117</td>\n",
              "      <td>4.88</td>\n",
              "      <td>4.89</td>\n",
              "      <td>4.94</td>\n",
              "      <td>NaN</td>\n",
              "    </tr>\n",
              "    <tr>\n",
              "      <th>4</th>\n",
              "      <td>20.7</td>\n",
              "      <td>100.0</td>\n",
              "      <td>55.0</td>\n",
              "      <td>160</td>\n",
              "      <td>4.79</td>\n",
              "      <td>4.84</td>\n",
              "      <td>4.92</td>\n",
              "      <td>NaN</td>\n",
              "    </tr>\n",
              "    <tr>\n",
              "      <th>...</th>\n",
              "      <td>...</td>\n",
              "      <td>...</td>\n",
              "      <td>...</td>\n",
              "      <td>...</td>\n",
              "      <td>...</td>\n",
              "      <td>...</td>\n",
              "      <td>...</td>\n",
              "      <td>...</td>\n",
              "    </tr>\n",
              "    <tr>\n",
              "      <th>6888</th>\n",
              "      <td>28.0</td>\n",
              "      <td>100.0</td>\n",
              "      <td>300.0</td>\n",
              "      <td>0</td>\n",
              "      <td>4.73</td>\n",
              "      <td>4.69</td>\n",
              "      <td>4.90</td>\n",
              "      <td>NaN</td>\n",
              "    </tr>\n",
              "    <tr>\n",
              "      <th>6889</th>\n",
              "      <td>18.0</td>\n",
              "      <td>50.0</td>\n",
              "      <td>195.0</td>\n",
              "      <td>0</td>\n",
              "      <td>5.00</td>\n",
              "      <td>4.94</td>\n",
              "      <td>5.00</td>\n",
              "      <td>NaN</td>\n",
              "    </tr>\n",
              "    <tr>\n",
              "      <th>6890</th>\n",
              "      <td>21.0</td>\n",
              "      <td>100.0</td>\n",
              "      <td>449.0</td>\n",
              "      <td>0</td>\n",
              "      <td>4.90</td>\n",
              "      <td>4.90</td>\n",
              "      <td>4.71</td>\n",
              "      <td>NaN</td>\n",
              "    </tr>\n",
              "    <tr>\n",
              "      <th>6891</th>\n",
              "      <td>8.0</td>\n",
              "      <td>84.4</td>\n",
              "      <td>282.0</td>\n",
              "      <td>0</td>\n",
              "      <td>5.00</td>\n",
              "      <td>5.00</td>\n",
              "      <td>5.00</td>\n",
              "      <td>NaN</td>\n",
              "    </tr>\n",
              "    <tr>\n",
              "      <th>6892</th>\n",
              "      <td>22.0</td>\n",
              "      <td>36.0</td>\n",
              "      <td>200.0</td>\n",
              "      <td>0</td>\n",
              "      <td>4.86</td>\n",
              "      <td>4.86</td>\n",
              "      <td>4.86</td>\n",
              "      <td>NaN</td>\n",
              "    </tr>\n",
              "  </tbody>\n",
              "</table>\n",
              "<p>6893 rows × 8 columns</p>\n",
              "</div>\n",
              "      <button class=\"colab-df-convert\" onclick=\"convertToInteractive('df-4007279b-271f-48a3-847f-5a2c05306f75')\"\n",
              "              title=\"Convert this dataframe to an interactive table.\"\n",
              "              style=\"display:none;\">\n",
              "        \n",
              "  <svg xmlns=\"http://www.w3.org/2000/svg\" height=\"24px\"viewBox=\"0 0 24 24\"\n",
              "       width=\"24px\">\n",
              "    <path d=\"M0 0h24v24H0V0z\" fill=\"none\"/>\n",
              "    <path d=\"M18.56 5.44l.94 2.06.94-2.06 2.06-.94-2.06-.94-.94-2.06-.94 2.06-2.06.94zm-11 1L8.5 8.5l.94-2.06 2.06-.94-2.06-.94L8.5 2.5l-.94 2.06-2.06.94zm10 10l.94 2.06.94-2.06 2.06-.94-2.06-.94-.94-2.06-.94 2.06-2.06.94z\"/><path d=\"M17.41 7.96l-1.37-1.37c-.4-.4-.92-.59-1.43-.59-.52 0-1.04.2-1.43.59L10.3 9.45l-7.72 7.72c-.78.78-.78 2.05 0 2.83L4 21.41c.39.39.9.59 1.41.59.51 0 1.02-.2 1.41-.59l7.78-7.78 2.81-2.81c.8-.78.8-2.07 0-2.86zM5.41 20L4 18.59l7.72-7.72 1.47 1.35L5.41 20z\"/>\n",
              "  </svg>\n",
              "      </button>\n",
              "      \n",
              "  <style>\n",
              "    .colab-df-container {\n",
              "      display:flex;\n",
              "      flex-wrap:wrap;\n",
              "      gap: 12px;\n",
              "    }\n",
              "\n",
              "    .colab-df-convert {\n",
              "      background-color: #E8F0FE;\n",
              "      border: none;\n",
              "      border-radius: 50%;\n",
              "      cursor: pointer;\n",
              "      display: none;\n",
              "      fill: #1967D2;\n",
              "      height: 32px;\n",
              "      padding: 0 0 0 0;\n",
              "      width: 32px;\n",
              "    }\n",
              "\n",
              "    .colab-df-convert:hover {\n",
              "      background-color: #E2EBFA;\n",
              "      box-shadow: 0px 1px 2px rgba(60, 64, 67, 0.3), 0px 1px 3px 1px rgba(60, 64, 67, 0.15);\n",
              "      fill: #174EA6;\n",
              "    }\n",
              "\n",
              "    [theme=dark] .colab-df-convert {\n",
              "      background-color: #3B4455;\n",
              "      fill: #D2E3FC;\n",
              "    }\n",
              "\n",
              "    [theme=dark] .colab-df-convert:hover {\n",
              "      background-color: #434B5C;\n",
              "      box-shadow: 0px 1px 3px 1px rgba(0, 0, 0, 0.15);\n",
              "      filter: drop-shadow(0px 1px 2px rgba(0, 0, 0, 0.3));\n",
              "      fill: #FFFFFF;\n",
              "    }\n",
              "  </style>\n",
              "\n",
              "      <script>\n",
              "        const buttonEl =\n",
              "          document.querySelector('#df-4007279b-271f-48a3-847f-5a2c05306f75 button.colab-df-convert');\n",
              "        buttonEl.style.display =\n",
              "          google.colab.kernel.accessAllowed ? 'block' : 'none';\n",
              "\n",
              "        async function convertToInteractive(key) {\n",
              "          const element = document.querySelector('#df-4007279b-271f-48a3-847f-5a2c05306f75');\n",
              "          const dataTable =\n",
              "            await google.colab.kernel.invokeFunction('convertToInteractive',\n",
              "                                                     [key], {});\n",
              "          if (!dataTable) return;\n",
              "\n",
              "          const docLinkHtml = 'Like what you see? Visit the ' +\n",
              "            '<a target=\"_blank\" href=https://colab.research.google.com/notebooks/data_table.ipynb>data table notebook</a>'\n",
              "            + ' to learn more about interactive tables.';\n",
              "          element.innerHTML = '';\n",
              "          dataTable['output_type'] = 'display_data';\n",
              "          await google.colab.output.renderOutput(dataTable, element);\n",
              "          const docLink = document.createElement('div');\n",
              "          docLink.innerHTML = docLinkHtml;\n",
              "          element.appendChild(docLink);\n",
              "        }\n",
              "      </script>\n",
              "    </div>\n",
              "  </div>\n",
              "  "
            ]
          },
          "metadata": {},
          "execution_count": 11
        }
      ]
    },
    {
      "cell_type": "code",
      "source": [
        "df3['room_type'] = df1['room_type']\n",
        "df3.info()"
      ],
      "metadata": {
        "colab": {
          "base_uri": "https://localhost:8080/"
        },
        "id": "QSJw-Z0tRK_R",
        "outputId": "432b3402-86a3-4ea1-ee94-bdf067fee24e"
      },
      "execution_count": 12,
      "outputs": [
        {
          "output_type": "stream",
          "name": "stdout",
          "text": [
            "<class 'pandas.core.frame.DataFrame'>\n",
            "RangeIndex: 6893 entries, 0 to 6892\n",
            "Data columns (total 8 columns):\n",
            " #   Column                       Non-Null Count  Dtype  \n",
            "---  ------                       --------------  -----  \n",
            " 0   number_of_reviews            6893 non-null   float64\n",
            " 1   host_acceptance_rate         6893 non-null   float64\n",
            " 2   price                        6893 non-null   float64\n",
            " 3   availability_365             6893 non-null   int64  \n",
            " 4   review_scores_rating         6893 non-null   float64\n",
            " 5   review_scores_cleanliness    6893 non-null   float64\n",
            " 6   review_scores_communication  6893 non-null   float64\n",
            " 7   room_type                    6893 non-null   object \n",
            "dtypes: float64(6), int64(1), object(1)\n",
            "memory usage: 430.9+ KB\n"
          ]
        }
      ]
    },
    {
      "cell_type": "code",
      "source": [
        "df['room_type'].unique()"
      ],
      "metadata": {
        "colab": {
          "base_uri": "https://localhost:8080/"
        },
        "id": "IZ4Zp3GRBVQc",
        "outputId": "2c34419c-b29c-4843-851f-c752e6933bf9"
      },
      "execution_count": 13,
      "outputs": [
        {
          "output_type": "execute_result",
          "data": {
            "text/plain": [
              "array(['Private room', 'Entire home/apt', 'Hotel room', 'Shared room'],\n",
              "      dtype=object)"
            ]
          },
          "metadata": {},
          "execution_count": 13
        }
      ]
    },
    {
      "cell_type": "code",
      "source": [
        "entire_home = df3[df3['room_type'] == 'Entire home/apt']\n",
        "private_room = df3[df3['room_type'] == 'Private room']\n",
        "hotel_room = df3[df3['room_type'] == 'Hotel room']\n",
        "shared_room = df3[df3['room_type'] == 'Shared room']"
      ],
      "metadata": {
        "id": "iGyPwSwtCdYg"
      },
      "execution_count": 14,
      "outputs": []
    },
    {
      "cell_type": "markdown",
      "source": [
        "4. Analizar la correlación que existe en cada tipo de habitación respecto a las variables siguientes, utilizando Python y Google Colab, obtener los datos y gráficos requeridos en cada caso."
      ],
      "metadata": {
        "id": "2wIQXzeYmFpx"
      }
    },
    {
      "cell_type": "markdown",
      "source": [
        "###**Correlaciones para \"entire home\"**"
      ],
      "metadata": {
        "id": "-kGmlxW5PgJm"
      }
    },
    {
      "cell_type": "code",
      "source": [
        "from sklearn.linear_model import LinearRegression\n",
        "sns.heatmap(entire_home.corr(), annot = True)"
      ],
      "metadata": {
        "id": "ikYL9XqlP4Ez",
        "colab": {
          "base_uri": "https://localhost:8080/",
          "height": 428
        },
        "outputId": "0e0866ef-b038-4c9d-8cdc-ddcb9f874beb"
      },
      "execution_count": 15,
      "outputs": [
        {
          "output_type": "execute_result",
          "data": {
            "text/plain": [
              "<matplotlib.axes._subplots.AxesSubplot at 0x7f60980c4550>"
            ]
          },
          "metadata": {},
          "execution_count": 15
        },
        {
          "output_type": "display_data",
          "data": {
            "text/plain": [
              "<Figure size 432x288 with 2 Axes>"
            ],
            "image/png": "[encoded data removed]"
          },
          "metadata": {
            "needs_background": "light"
          }
        }
      ]
    },
    {
      "cell_type": "code",
      "source": [
        "Vars_Indep_entire = entire_home[['review_scores_rating', 'review_scores_cleanliness','review_scores_communication']]\n",
        "Var_Dep_entire = entire_home['number_of_reviews']"
      ],
      "metadata": {
        "id": "Ehpodlhz4iIn"
      },
      "execution_count": 22,
      "outputs": []
    },
    {
      "cell_type": "code",
      "source": [
        "from sklearn.linear_model import LinearRegression\n",
        "model1 = LinearRegression()\n",
        "model1.fit(X=Vars_Indep_entire, y=Var_Dep_entire)\n",
        "model1.__dict__"
      ],
      "metadata": {
        "colab": {
          "base_uri": "https://localhost:8080/"
        },
        "id": "UBv99ofN4yGI",
        "outputId": "985c29cc-ad97-4642-9c5d-b917fff63935"
      },
      "execution_count": 23,
      "outputs": [
        {
          "output_type": "execute_result",
          "data": {
            "text/plain": [
              "{'fit_intercept': True,\n",
              " 'normalize': 'deprecated',\n",
              " 'copy_X': True,\n",
              " 'n_jobs': None,\n",
              " 'positive': False,\n",
              " 'feature_names_in_': array(['review_scores_rating', 'review_scores_cleanliness',\n",
              "        'review_scores_communication'], dtype=object),\n",
              " 'n_features_in_': 3,\n",
              " 'coef_': array([-23.12140174,  -0.65519478, -19.1155566 ]),\n",
              " '_residues': 1952144.3053901438,\n",
              " 'rank_': 3,\n",
              " 'singular_': array([14.1373635 ,  7.05588926,  4.07574381]),\n",
              " 'intercept_': 227.5209638334957}"
            ]
          },
          "metadata": {},
          "execution_count": 23
        }
      ]
    },
    {
      "cell_type": "code",
      "source": [
        "model1.score(Vars_Indep_entire, Var_Dep_entire)"
      ],
      "metadata": {
        "colab": {
          "base_uri": "https://localhost:8080/"
        },
        "id": "IgtZqmGP4501",
        "outputId": "bad66ab4-5853-49d2-ac3a-ff8d1705990d"
      },
      "execution_count": 24,
      "outputs": [
        {
          "output_type": "execute_result",
          "data": {
            "text/plain": [
              "0.03836226664173947"
            ]
          },
          "metadata": {},
          "execution_count": 24
        }
      ]
    },
    {
      "cell_type": "markdown",
      "source": [
        "###**Correlaciones para \"private room\"**"
      ],
      "metadata": {
        "id": "NhDBGDZWUX5I"
      }
    },
    {
      "cell_type": "code",
      "source": [
        "sns.heatmap(private_room.corr(), annot = True)"
      ],
      "metadata": {
        "id": "Gha1awK5UeBx",
        "colab": {
          "base_uri": "https://localhost:8080/",
          "height": 428
        },
        "outputId": "83bbb503-a879-49fb-9f62-38251b4efa71"
      },
      "execution_count": 19,
      "outputs": [
        {
          "output_type": "execute_result",
          "data": {
            "text/plain": [
              "<matplotlib.axes._subplots.AxesSubplot at 0x7f60956aa6d0>"
            ]
          },
          "metadata": {},
          "execution_count": 19
        },
        {
          "output_type": "display_data",
          "data": {
            "text/plain": [
              "<Figure size 432x288 with 2 Axes>"
            ],
            "image/png": "[encoded data removed]"
          },
          "metadata": {
            "needs_background": "light"
          }
        }
      ]
    },
    {
      "cell_type": "code",
      "source": [
        "Vars_Indep_private = private_room[['availability_365', 'review_scores_rating','review_scores_communication']]\n",
        "Var_Dep_private = private_room['number_of_reviews']"
      ],
      "metadata": {
        "id": "WeNIEMdT5Dh3"
      },
      "execution_count": 26,
      "outputs": []
    },
    {
      "cell_type": "code",
      "source": [
        "model2 = LinearRegression()\n",
        "model2.fit(X = Vars_Indep_private, y = Var_Dep_private)\n",
        "model2.__dict__"
      ],
      "metadata": {
        "colab": {
          "base_uri": "https://localhost:8080/"
        },
        "outputId": "e800fd40-e8f3-4eec-b484-6c4240c70242",
        "id": "Bc4zt_fj5KVJ"
      },
      "execution_count": 27,
      "outputs": [
        {
          "output_type": "execute_result",
          "data": {
            "text/plain": [
              "{'fit_intercept': True,\n",
              " 'normalize': 'deprecated',\n",
              " 'copy_X': True,\n",
              " 'n_jobs': None,\n",
              " 'positive': False,\n",
              " 'feature_names_in_': array(['availability_365', 'review_scores_rating',\n",
              "        'review_scores_communication'], dtype=object),\n",
              " 'n_features_in_': 3,\n",
              " 'coef_': array([-1.16070021e-02, -1.00236362e+01, -1.47707149e+01]),\n",
              " '_residues': 1221314.984072933,\n",
              " 'rank_': 3,\n",
              " 'singular_': array([5.45220653e+03, 6.53816089e+00, 2.43316017e+00]),\n",
              " 'intercept_': 151.62134328059255}"
            ]
          },
          "metadata": {},
          "execution_count": 27
        }
      ]
    },
    {
      "cell_type": "code",
      "source": [
        "model2.score(Vars_Indep_private, Var_Dep_private)"
      ],
      "metadata": {
        "colab": {
          "base_uri": "https://localhost:8080/"
        },
        "id": "TG7M76kK5RR0",
        "outputId": "f37badc2-02ac-46ca-b749-2e9d41ee910c"
      },
      "execution_count": 28,
      "outputs": [
        {
          "output_type": "execute_result",
          "data": {
            "text/plain": [
              "0.009213764369379596"
            ]
          },
          "metadata": {},
          "execution_count": 28
        }
      ]
    },
    {
      "cell_type": "markdown",
      "source": [
        "###**Correlaciones para \"hotel room\"**"
      ],
      "metadata": {
        "id": "TMvjKrwoWnKi"
      }
    },
    {
      "cell_type": "code",
      "source": [
        "sns.heatmap(hotel_room.corr(), annot = True)"
      ],
      "metadata": {
        "id": "47a_n5FvWpgq",
        "colab": {
          "base_uri": "https://localhost:8080/",
          "height": 428
        },
        "outputId": "dd5d7679-8adb-4e63-8d51-9346c5cfc785"
      },
      "execution_count": 29,
      "outputs": [
        {
          "output_type": "execute_result",
          "data": {
            "text/plain": [
              "<matplotlib.axes._subplots.AxesSubplot at 0x7f6094504a10>"
            ]
          },
          "metadata": {},
          "execution_count": 29
        },
        {
          "output_type": "display_data",
          "data": {
            "text/plain": [
              "<Figure size 432x288 with 2 Axes>"
            ],
            "image/png": "[encoded data removed]"
          },
          "metadata": {
            "needs_background": "light"
          }
        }
      ]
    },
    {
      "cell_type": "code",
      "source": [
        "Vars_Indep_hotel = hotel_room[['host_acceptance_rate', 'price','availability_365']]\n",
        "Var_Dep_hotel = hotel_room['number_of_reviews']"
      ],
      "metadata": {
        "id": "8RgsLah_5vjs"
      },
      "execution_count": 30,
      "outputs": []
    },
    {
      "cell_type": "code",
      "source": [
        "model3 = LinearRegression()\n",
        "model3.fit(X = Vars_Indep_hotel, y = Var_Dep_hotel)\n",
        "model3.__dict__"
      ],
      "metadata": {
        "colab": {
          "base_uri": "https://localhost:8080/"
        },
        "id": "omquq-Ym61as",
        "outputId": "641861c1-baff-4453-85b9-c29bd4d59c93"
      },
      "execution_count": 31,
      "outputs": [
        {
          "output_type": "execute_result",
          "data": {
            "text/plain": [
              "{'fit_intercept': True,\n",
              " 'normalize': 'deprecated',\n",
              " 'copy_X': True,\n",
              " 'n_jobs': None,\n",
              " 'positive': False,\n",
              " 'feature_names_in_': array(['host_acceptance_rate', 'price', 'availability_365'], dtype=object),\n",
              " 'n_features_in_': 3,\n",
              " 'coef_': array([0.77224238, 0.02504588, 0.03503762]),\n",
              " '_residues': 48340.16320392225,\n",
              " 'rank_': 3,\n",
              " 'singular_': array([1207.12635282,  728.66871148,   66.50894216]),\n",
              " 'intercept_': -53.487978924544564}"
            ]
          },
          "metadata": {},
          "execution_count": 31
        }
      ]
    },
    {
      "cell_type": "code",
      "source": [
        "model3.score(Vars_Indep_hotel, Var_Dep_hotel)"
      ],
      "metadata": {
        "colab": {
          "base_uri": "https://localhost:8080/"
        },
        "id": "XOJaKmGS687i",
        "outputId": "644b0af9-f4bc-4d0b-8d28-7391c63c225a"
      },
      "execution_count": 36,
      "outputs": [
        {
          "output_type": "execute_result",
          "data": {
            "text/plain": [
              "0.12144897616687789"
            ]
          },
          "metadata": {},
          "execution_count": 36
        }
      ]
    },
    {
      "cell_type": "markdown",
      "source": [
        "###**Correlaciones para \"shared room\"**"
      ],
      "metadata": {
        "id": "Cid-GStTgvbz"
      }
    },
    {
      "cell_type": "code",
      "source": [
        "sns.heatmap(shared_room.corr(), annot = True)"
      ],
      "metadata": {
        "id": "hpo2AP1Gg0bD",
        "colab": {
          "base_uri": "https://localhost:8080/",
          "height": 428
        },
        "outputId": "2acf677d-8508-4d32-d002-006b338baac2"
      },
      "execution_count": 33,
      "outputs": [
        {
          "output_type": "execute_result",
          "data": {
            "text/plain": [
              "<matplotlib.axes._subplots.AxesSubplot at 0x7f60942aa290>"
            ]
          },
          "metadata": {},
          "execution_count": 33
        },
        {
          "output_type": "display_data",
          "data": {
            "text/plain": [
              "<Figure size 432x288 with 2 Axes>"
            ],
            "image/png": "[encoded data removed]"
          },
          "metadata": {
            "needs_background": "light"
          }
        }
      ]
    },
    {
      "cell_type": "code",
      "source": [
        "Vars_Indep_shared = shared_room[['availability_365', 'review_scores_rating','review_scores_communication']]\n",
        "Var_Dep_shared = shared_room['number_of_reviews']"
      ],
      "metadata": {
        "id": "2AZ6sk0S6-QY"
      },
      "execution_count": 34,
      "outputs": []
    },
    {
      "cell_type": "code",
      "source": [
        "model4 = LinearRegression()\n",
        "model4.fit(X = Vars_Indep_shared, y = Var_Dep_shared)\n",
        "model4.__dict__"
      ],
      "metadata": {
        "colab": {
          "base_uri": "https://localhost:8080/"
        },
        "id": "xUq_oKSZ7MIC",
        "outputId": "4cf3e87c-8896-46a9-b383-f476941d9554"
      },
      "execution_count": 35,
      "outputs": [
        {
          "output_type": "execute_result",
          "data": {
            "text/plain": [
              "{'fit_intercept': True,\n",
              " 'normalize': 'deprecated',\n",
              " 'copy_X': True,\n",
              " 'n_jobs': None,\n",
              " 'positive': False,\n",
              " 'feature_names_in_': array(['availability_365', 'review_scores_rating',\n",
              "        'review_scores_communication'], dtype=object),\n",
              " 'n_features_in_': 3,\n",
              " 'coef_': array([ 2.33424921e-02, -3.22814395e+01, -8.92452700e+01]),\n",
              " '_residues': 23399.889223837483,\n",
              " 'rank_': 3,\n",
              " 'singular_': array([9.71311121e+02, 9.99186584e-01, 4.38868163e-01]),\n",
              " 'intercept_': 617.0529033226333}"
            ]
          },
          "metadata": {},
          "execution_count": 35
        }
      ]
    },
    {
      "cell_type": "code",
      "source": [
        "model4.score(Vars_Indep_shared, Var_Dep_shared)"
      ],
      "metadata": {
        "colab": {
          "base_uri": "https://localhost:8080/"
        },
        "id": "VTbVCpRh7RD4",
        "outputId": "93ef0bff-9264-4cd7-c0dc-9c4a18f726a7"
      },
      "execution_count": 37,
      "outputs": [
        {
          "output_type": "execute_result",
          "data": {
            "text/plain": [
              "0.16419571520367393"
            ]
          },
          "metadata": {},
          "execution_count": 37
        }
      ]
    },
    {
      "cell_type": "markdown",
      "source": [
        "5. Crear el modelo matemático que describa de mejor manera el número de reseñas para cada tipo de alojamiento, utilizando la variable con con mayor correlación."
      ],
      "metadata": {
        "id": "8UmmQrxnhssZ"
      }
    },
    {
      "cell_type": "markdown",
      "source": [
        "Para entire home, utilizamos la variable *review_scores_rating, review_scores_cleanliness, review_scores_communication, *\n",
        "\n",
        "$y = -23.12x_1 - 0.65x_2 - 19.11x_3 + 227.52 $\n",
        "\n",
        "Para private room, utilizamos la variable *availability_365, review_scores_rating, review_scores_communication*\n",
        "\n",
        "$y = -0.0116x_1 - 10.02x_2 - 14.77x_3 + 151.62$\n",
        "\n",
        "Para hotel room, utilizamos la variable *host_acceptance_rate, price, availability_365*\n",
        "\n",
        "$y = 0.772x_1 + 0.025x_2 + 0.035x_3 - 53.488$\n",
        "\n",
        "Para shared room, utilizamos la variable *availability_365, review_scores_rating, review_scores_communication*\n",
        "\n",
        "$y = 0.0233x_1 - 32.281x_2 - 89.24x_3 + 617.053$"
      ],
      "metadata": {
        "id": "tDeYbqk3hRJq"
      }
    },
    {
      "cell_type": "markdown",
      "source": [
        "6. Realizar una tabla de todos los coeficientes de determinación y correlación obtenidos para cada tipo de habitación."
      ],
      "metadata": {
        "id": "KC1IREbSlz4s"
      }
    },
    {
      "cell_type": "code",
      "source": [
        "df5 = pd.DataFrame(columns = ['Room Type', 'Coef Deter', 'Coef Corr'])\n",
        "df5['Room Type'] = df['room_type'].unique()\n",
        "model_entire = LinearRegression()\n",
        "model_entire.fit(X = entire_home[['host_acceptance_rate']], y = entire_home['number_of_reviews'])\n",
        "deter_entire = model_entire.score(X = entire_home[['host_acceptance_rate']], y = entire_home['number_of_reviews'])\n",
        "corr_entire = np.sqrt(deter_entire)\n",
        "\n",
        "model_private = LinearRegression()\n",
        "model_private.fit(X = private_room[['host_acceptance_rate']], y = private_room['number_of_reviews'])\n",
        "deter_private = model_private.score(X = private_room[['host_acceptance_rate']], y = private_room['number_of_reviews'])\n",
        "corr_private = np.sqrt(deter_private)\n",
        "                      \n",
        "model_hotel = LinearRegression()\n",
        "model_hotel.fit(X = hotel_room[['review_scores_communication']], y = hotel_room['number_of_reviews'])\n",
        "deter_hotel = model_hotel.score(X = hotel_room[['review_scores_communication']], y = hotel_room['number_of_reviews'])\n",
        "corr_hotel = np.sqrt(deter_hotel)\n",
        "\n",
        "model_shared = LinearRegression()\n",
        "model_shared.fit(X = shared_room[['host_acceptance_rate']], y = shared_room['number_of_reviews'])\n",
        "deter_shared = model_shared.score(X = shared_room[['host_acceptance_rate']], y = shared_room['number_of_reviews'])\n",
        "corr_shared = np.sqrt(deter_shared)\n",
        "\n",
        "df5['Coef Deter'] = [deter_entire, deter_private, deter_hotel, deter_shared]\n",
        "df5['Coef Corr'] = [corr_entire, corr_private, corr_hotel, corr_shared]\n",
        "\n",
        "df5"
      ],
      "metadata": {
        "colab": {
          "base_uri": "https://localhost:8080/",
          "height": 175
        },
        "id": "zSFujImGl_rM",
        "outputId": "a64827cd-479a-4608-cbb7-f87c68122476"
      },
      "execution_count": 38,
      "outputs": [
        {
          "output_type": "execute_result",
          "data": {
            "text/plain": [
              "         Room Type  Coef Deter  Coef Corr\n",
              "0     Private room    0.002603   0.051024\n",
              "1  Entire home/apt    0.001526   0.039064\n",
              "2       Hotel room    0.004568   0.067584\n",
              "3      Shared room    0.004193   0.064755"
            ],
            "text/html": [
              "\n",
              "  <div id=\"df-fd289603-9b55-424c-9274-18547eacd16b\">\n",
              "    <div class=\"colab-df-container\">\n",
              "      <div>\n",
              "<style scoped>\n",
              "    .dataframe tbody tr th:only-of-type {\n",
              "        vertical-align: middle;\n",
              "    }\n",
              "\n",
              "    .dataframe tbody tr th {\n",
              "        vertical-align: top;\n",
              "    }\n",
              "\n",
              "    .dataframe thead th {\n",
              "        text-align: right;\n",
              "    }\n",
              "</style>\n",
              "<table border=\"1\" class=\"dataframe\">\n",
              "  <thead>\n",
              "    <tr style=\"text-align: right;\">\n",
              "      <th></th>\n",
              "      <th>Room Type</th>\n",
              "      <th>Coef Deter</th>\n",
              "      <th>Coef Corr</th>\n",
              "    </tr>\n",
              "  </thead>\n",
              "  <tbody>\n",
              "    <tr>\n",
              "      <th>0</th>\n",
              "      <td>Private room</td>\n",
              "      <td>0.002603</td>\n",
              "      <td>0.051024</td>\n",
              "    </tr>\n",
              "    <tr>\n",
              "      <th>1</th>\n",
              "      <td>Entire home/apt</td>\n",
              "      <td>0.001526</td>\n",
              "      <td>0.039064</td>\n",
              "    </tr>\n",
              "    <tr>\n",
              "      <th>2</th>\n",
              "      <td>Hotel room</td>\n",
              "      <td>0.004568</td>\n",
              "      <td>0.067584</td>\n",
              "    </tr>\n",
              "    <tr>\n",
              "      <th>3</th>\n",
              "      <td>Shared room</td>\n",
              "      <td>0.004193</td>\n",
              "      <td>0.064755</td>\n",
              "    </tr>\n",
              "  </tbody>\n",
              "</table>\n",
              "</div>\n",
              "      <button class=\"colab-df-convert\" onclick=\"convertToInteractive('df-fd289603-9b55-424c-9274-18547eacd16b')\"\n",
              "              title=\"Convert this dataframe to an interactive table.\"\n",
              "              style=\"display:none;\">\n",
              "        \n",
              "  <svg xmlns=\"http://www.w3.org/2000/svg\" height=\"24px\"viewBox=\"0 0 24 24\"\n",
              "       width=\"24px\">\n",
              "    <path d=\"M0 0h24v24H0V0z\" fill=\"none\"/>\n",
              "    <path d=\"M18.56 5.44l.94 2.06.94-2.06 2.06-.94-2.06-.94-.94-2.06-.94 2.06-2.06.94zm-11 1L8.5 8.5l.94-2.06 2.06-.94-2.06-.94L8.5 2.5l-.94 2.06-2.06.94zm10 10l.94 2.06.94-2.06 2.06-.94-2.06-.94-.94-2.06-.94 2.06-2.06.94z\"/><path d=\"M17.41 7.96l-1.37-1.37c-.4-.4-.92-.59-1.43-.59-.52 0-1.04.2-1.43.59L10.3 9.45l-7.72 7.72c-.78.78-.78 2.05 0 2.83L4 21.41c.39.39.9.59 1.41.59.51 0 1.02-.2 1.41-.59l7.78-7.78 2.81-2.81c.8-.78.8-2.07 0-2.86zM5.41 20L4 18.59l7.72-7.72 1.47 1.35L5.41 20z\"/>\n",
              "  </svg>\n",
              "      </button>\n",
              "      \n",
              "  <style>\n",
              "    .colab-df-container {\n",
              "      display:flex;\n",
              "      flex-wrap:wrap;\n",
              "      gap: 12px;\n",
              "    }\n",
              "\n",
              "    .colab-df-convert {\n",
              "      background-color: #E8F0FE;\n",
              "      border: none;\n",
              "      border-radius: 50%;\n",
              "      cursor: pointer;\n",
              "      display: none;\n",
              "      fill: #1967D2;\n",
              "      height: 32px;\n",
              "      padding: 0 0 0 0;\n",
              "      width: 32px;\n",
              "    }\n",
              "\n",
              "    .colab-df-convert:hover {\n",
              "      background-color: #E2EBFA;\n",
              "      box-shadow: 0px 1px 2px rgba(60, 64, 67, 0.3), 0px 1px 3px 1px rgba(60, 64, 67, 0.15);\n",
              "      fill: #174EA6;\n",
              "    }\n",
              "\n",
              "    [theme=dark] .colab-df-convert {\n",
              "      background-color: #3B4455;\n",
              "      fill: #D2E3FC;\n",
              "    }\n",
              "\n",
              "    [theme=dark] .colab-df-convert:hover {\n",
              "      background-color: #434B5C;\n",
              "      box-shadow: 0px 1px 3px 1px rgba(0, 0, 0, 0.15);\n",
              "      filter: drop-shadow(0px 1px 2px rgba(0, 0, 0, 0.3));\n",
              "      fill: #FFFFFF;\n",
              "    }\n",
              "  </style>\n",
              "\n",
              "      <script>\n",
              "        const buttonEl =\n",
              "          document.querySelector('#df-fd289603-9b55-424c-9274-18547eacd16b button.colab-df-convert');\n",
              "        buttonEl.style.display =\n",
              "          google.colab.kernel.accessAllowed ? 'block' : 'none';\n",
              "\n",
              "        async function convertToInteractive(key) {\n",
              "          const element = document.querySelector('#df-fd289603-9b55-424c-9274-18547eacd16b');\n",
              "          const dataTable =\n",
              "            await google.colab.kernel.invokeFunction('convertToInteractive',\n",
              "                                                     [key], {});\n",
              "          if (!dataTable) return;\n",
              "\n",
              "          const docLinkHtml = 'Like what you see? Visit the ' +\n",
              "            '<a target=\"_blank\" href=https://colab.research.google.com/notebooks/data_table.ipynb>data table notebook</a>'\n",
              "            + ' to learn more about interactive tables.';\n",
              "          element.innerHTML = '';\n",
              "          dataTable['output_type'] = 'display_data';\n",
              "          await google.colab.output.renderOutput(dataTable, element);\n",
              "          const docLink = document.createElement('div');\n",
              "          docLink.innerHTML = docLinkHtml;\n",
              "          element.appendChild(docLink);\n",
              "        }\n",
              "      </script>\n",
              "    </div>\n",
              "  </div>\n",
              "  "
            ]
          },
          "metadata": {},
          "execution_count": 38
        }
      ]
    }
  ]
}