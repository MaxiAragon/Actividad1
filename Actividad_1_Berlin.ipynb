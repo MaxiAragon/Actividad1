{
  "nbformat": 4,
  "nbformat_minor": 0,
  "metadata": {
    "colab": {
      "provenance": [],
      "collapsed_sections": [],
      "authorship_tag": "ABX9TyMuLAEGwr1omi4wqPwt38h+",
      "include_colab_link": true
    },
    "kernelspec": {
      "name": "python3",
      "display_name": "Python 3"
    },
    "language_info": {
      "name": "python"
    }
  },
  "cells": [
    {
      "cell_type": "markdown",
      "metadata": {
        "id": "view-in-github",
        "colab_type": "text"
      },
      "source": [
        "<a href=\"https://colab.research.google.com/github/MaxiAragon/Actividad1/blob/main/Actividad_1_Berlin.ipynb\" target=\"_parent\"><img src=\"https://colab.research.google.com/assets/colab-badge.svg\" alt=\"Open In Colab\"/></a>"
      ]
    },
    {
      "cell_type": "markdown",
      "source": [
        "#**Actividad 1**\n",
        "##**Maximiliano Aragón Fragoso**\n",
        "##**A01702063**"
      ],
      "metadata": {
        "id": "2gsxlZzPAwaZ"
      }
    },
    {
      "cell_type": "markdown",
      "source": [
        "1. Crear un nuevo repositorio nuevo con el nombre: Actividad 1"
      ],
      "metadata": {
        "id": "13_YNE5Mmc-K"
      }
    },
    {
      "cell_type": "code",
      "execution_count": 1,
      "metadata": {
        "id": "Xzq9W9ck9ZTe"
      },
      "outputs": [],
      "source": [
        "import pandas as pd\n",
        "import numpy as np\n",
        "import matplotlib.pyplot as plt\n",
        "import seaborn as sns"
      ]
    },
    {
      "cell_type": "markdown",
      "source": [
        "2. Agregar el archivo: Listing.csv.gz de México ingresar a: http://insideairbnb.com/get-the-data/"
      ],
      "metadata": {
        "id": "1GtRRM8FmZwg"
      }
    },
    {
      "cell_type": "code",
      "source": [
        "df = pd.read_csv('listings_berlin.csv.gz')\n",
        "df.head()"
      ],
      "metadata": {
        "colab": {
          "base_uri": "https://localhost:8080/",
          "height": 629
        },
        "id": "b7Du6iFRA4V_",
        "outputId": "3166f43d-f997-4244-b391-c483d44b1e80"
      },
      "execution_count": 2,
      "outputs": [
        {
          "output_type": "execute_result",
          "data": {
            "text/plain": [
              "                   id                                      listing_url  \\\n",
              "0  652868795892201022  https://www.airbnb.com/rooms/652868795892201022   \n",
              "1            29077694            https://www.airbnb.com/rooms/29077694   \n",
              "2            27080612            https://www.airbnb.com/rooms/27080612   \n",
              "3  665648367391379321  https://www.airbnb.com/rooms/665648367391379321   \n",
              "4                3176                https://www.airbnb.com/rooms/3176   \n",
              "\n",
              "        scrape_id last_scraped           source  \\\n",
              "0  20220915162225   2022-09-15      city scrape   \n",
              "1  20220915162225   2022-09-16  previous scrape   \n",
              "2  20220915162225   2022-09-15      city scrape   \n",
              "3  20220915162225   2022-09-15      city scrape   \n",
              "4  20220915162225   2022-09-15      city scrape   \n",
              "\n",
              "                                                name  \\\n",
              "0  Kleine Auszeit? Oder Business-Trip? Alles mögl...   \n",
              "1             Wohnung im Grünen nah an der Metropole   \n",
              "2  Apartment with Living/Sleeping Room & own Kitchen   \n",
              "3                 Schöne Eigentumswohnung mit Balkon   \n",
              "4                    Fabulous Flat in great Location   \n",
              "\n",
              "                                         description  \\\n",
              "0  Hallo ihr Lieben,<br /><br />kommt und verbrin...   \n",
              "1  Wohnung befindet sich im Souterrain eines Einf...   \n",
              "2  The well-equipped 30 m² large Apartment is loc...   \n",
              "3  Wenn du in dieser zentral gelegenen Unterkunft...   \n",
              "4  This beautiful first floor apartment  is situa...   \n",
              "\n",
              "                               neighborhood_overview  \\\n",
              "0                                                NaN   \n",
              "1  We live in a  green, quite and save area with ...   \n",
              "2  The Apartment is located in a quiet area close...   \n",
              "3                                                NaN   \n",
              "4  The neighbourhood is famous for its variety of...   \n",
              "\n",
              "                                         picture_url    host_id  ...  \\\n",
              "0  https://a0.muscache.com/pictures/miso/Hosting-...   21708794  ...   \n",
              "1  https://a0.muscache.com/pictures/e2642fca-3833...  219116245  ...   \n",
              "2  https://a0.muscache.com/pictures/c08faa7a-40c0...  130216168  ...   \n",
              "3  https://a0.muscache.com/pictures/55e91f59-55dd...  106965422  ...   \n",
              "4  https://a0.muscache.com/pictures/243355/84afcf...       3718  ...   \n",
              "\n",
              "  review_scores_communication review_scores_location review_scores_value  \\\n",
              "0                         NaN                    NaN                 NaN   \n",
              "1                        4.93                   4.52                4.66   \n",
              "2                        4.99                   4.79                4.92   \n",
              "3                         NaN                    NaN                 NaN   \n",
              "4                        4.69                   4.92                4.63   \n",
              "\n",
              "                                             license instant_bookable  \\\n",
              "0                                                NaN                t   \n",
              "1                                                NaN                f   \n",
              "2                                                NaN                t   \n",
              "3  Available with a mobility lease only (\"bail mo...                f   \n",
              "4                                                NaN                f   \n",
              "\n",
              "  calculated_host_listings_count calculated_host_listings_count_entire_homes  \\\n",
              "0                              1                                           1   \n",
              "1                              1                                           1   \n",
              "2                              2                                           2   \n",
              "3                              1                                           1   \n",
              "4                              1                                           1   \n",
              "\n",
              "  calculated_host_listings_count_private_rooms  \\\n",
              "0                                            0   \n",
              "1                                            0   \n",
              "2                                            0   \n",
              "3                                            0   \n",
              "4                                            0   \n",
              "\n",
              "  calculated_host_listings_count_shared_rooms reviews_per_month  \n",
              "0                                           0               NaN  \n",
              "1                                           0              0.63  \n",
              "2                                           0              2.54  \n",
              "3                                           0               NaN  \n",
              "4                                           0              0.91  \n",
              "\n",
              "[5 rows x 75 columns]"
            ],
            "text/html": [
              "\n",
              "  <div id=\"df-2be6c78f-d837-47e1-9d27-0fa2c0a916d7\">\n",
              "    <div class=\"colab-df-container\">\n",
              "      <div>\n",
              "<style scoped>\n",
              "    .dataframe tbody tr th:only-of-type {\n",
              "        vertical-align: middle;\n",
              "    }\n",
              "\n",
              "    .dataframe tbody tr th {\n",
              "        vertical-align: top;\n",
              "    }\n",
              "\n",
              "    .dataframe thead th {\n",
              "        text-align: right;\n",
              "    }\n",
              "</style>\n",
              "<table border=\"1\" class=\"dataframe\">\n",
              "  <thead>\n",
              "    <tr style=\"text-align: right;\">\n",
              "      <th></th>\n",
              "      <th>id</th>\n",
              "      <th>listing_url</th>\n",
              "      <th>scrape_id</th>\n",
              "      <th>last_scraped</th>\n",
              "      <th>source</th>\n",
              "      <th>name</th>\n",
              "      <th>description</th>\n",
              "      <th>neighborhood_overview</th>\n",
              "      <th>picture_url</th>\n",
              "      <th>host_id</th>\n",
              "      <th>...</th>\n",
              "      <th>review_scores_communication</th>\n",
              "      <th>review_scores_location</th>\n",
              "      <th>review_scores_value</th>\n",
              "      <th>license</th>\n",
              "      <th>instant_bookable</th>\n",
              "      <th>calculated_host_listings_count</th>\n",
              "      <th>calculated_host_listings_count_entire_homes</th>\n",
              "      <th>calculated_host_listings_count_private_rooms</th>\n",
              "      <th>calculated_host_listings_count_shared_rooms</th>\n",
              "      <th>reviews_per_month</th>\n",
              "    </tr>\n",
              "  </thead>\n",
              "  <tbody>\n",
              "    <tr>\n",
              "      <th>0</th>\n",
              "      <td>652868795892201022</td>\n",
              "      <td>https://www.airbnb.com/rooms/652868795892201022</td>\n",
              "      <td>20220915162225</td>\n",
              "      <td>2022-09-15</td>\n",
              "      <td>city scrape</td>\n",
              "      <td>Kleine Auszeit? Oder Business-Trip? Alles mögl...</td>\n",
              "      <td>Hallo ihr Lieben,&lt;br /&gt;&lt;br /&gt;kommt und verbrin...</td>\n",
              "      <td>NaN</td>\n",
              "      <td>https://a0.muscache.com/pictures/miso/Hosting-...</td>\n",
              "      <td>21708794</td>\n",
              "      <td>...</td>\n",
              "      <td>NaN</td>\n",
              "      <td>NaN</td>\n",
              "      <td>NaN</td>\n",
              "      <td>NaN</td>\n",
              "      <td>t</td>\n",
              "      <td>1</td>\n",
              "      <td>1</td>\n",
              "      <td>0</td>\n",
              "      <td>0</td>\n",
              "      <td>NaN</td>\n",
              "    </tr>\n",
              "    <tr>\n",
              "      <th>1</th>\n",
              "      <td>29077694</td>\n",
              "      <td>https://www.airbnb.com/rooms/29077694</td>\n",
              "      <td>20220915162225</td>\n",
              "      <td>2022-09-16</td>\n",
              "      <td>previous scrape</td>\n",
              "      <td>Wohnung im Grünen nah an der Metropole</td>\n",
              "      <td>Wohnung befindet sich im Souterrain eines Einf...</td>\n",
              "      <td>We live in a  green, quite and save area with ...</td>\n",
              "      <td>https://a0.muscache.com/pictures/e2642fca-3833...</td>\n",
              "      <td>219116245</td>\n",
              "      <td>...</td>\n",
              "      <td>4.93</td>\n",
              "      <td>4.52</td>\n",
              "      <td>4.66</td>\n",
              "      <td>NaN</td>\n",
              "      <td>f</td>\n",
              "      <td>1</td>\n",
              "      <td>1</td>\n",
              "      <td>0</td>\n",
              "      <td>0</td>\n",
              "      <td>0.63</td>\n",
              "    </tr>\n",
              "    <tr>\n",
              "      <th>2</th>\n",
              "      <td>27080612</td>\n",
              "      <td>https://www.airbnb.com/rooms/27080612</td>\n",
              "      <td>20220915162225</td>\n",
              "      <td>2022-09-15</td>\n",
              "      <td>city scrape</td>\n",
              "      <td>Apartment with Living/Sleeping Room &amp; own Kitchen</td>\n",
              "      <td>The well-equipped 30 m² large Apartment is loc...</td>\n",
              "      <td>The Apartment is located in a quiet area close...</td>\n",
              "      <td>https://a0.muscache.com/pictures/c08faa7a-40c0...</td>\n",
              "      <td>130216168</td>\n",
              "      <td>...</td>\n",
              "      <td>4.99</td>\n",
              "      <td>4.79</td>\n",
              "      <td>4.92</td>\n",
              "      <td>NaN</td>\n",
              "      <td>t</td>\n",
              "      <td>2</td>\n",
              "      <td>2</td>\n",
              "      <td>0</td>\n",
              "      <td>0</td>\n",
              "      <td>2.54</td>\n",
              "    </tr>\n",
              "    <tr>\n",
              "      <th>3</th>\n",
              "      <td>665648367391379321</td>\n",
              "      <td>https://www.airbnb.com/rooms/665648367391379321</td>\n",
              "      <td>20220915162225</td>\n",
              "      <td>2022-09-15</td>\n",
              "      <td>city scrape</td>\n",
              "      <td>Schöne Eigentumswohnung mit Balkon</td>\n",
              "      <td>Wenn du in dieser zentral gelegenen Unterkunft...</td>\n",
              "      <td>NaN</td>\n",
              "      <td>https://a0.muscache.com/pictures/55e91f59-55dd...</td>\n",
              "      <td>106965422</td>\n",
              "      <td>...</td>\n",
              "      <td>NaN</td>\n",
              "      <td>NaN</td>\n",
              "      <td>NaN</td>\n",
              "      <td>Available with a mobility lease only (\"bail mo...</td>\n",
              "      <td>f</td>\n",
              "      <td>1</td>\n",
              "      <td>1</td>\n",
              "      <td>0</td>\n",
              "      <td>0</td>\n",
              "      <td>NaN</td>\n",
              "    </tr>\n",
              "    <tr>\n",
              "      <th>4</th>\n",
              "      <td>3176</td>\n",
              "      <td>https://www.airbnb.com/rooms/3176</td>\n",
              "      <td>20220915162225</td>\n",
              "      <td>2022-09-15</td>\n",
              "      <td>city scrape</td>\n",
              "      <td>Fabulous Flat in great Location</td>\n",
              "      <td>This beautiful first floor apartment  is situa...</td>\n",
              "      <td>The neighbourhood is famous for its variety of...</td>\n",
              "      <td>https://a0.muscache.com/pictures/243355/84afcf...</td>\n",
              "      <td>3718</td>\n",
              "      <td>...</td>\n",
              "      <td>4.69</td>\n",
              "      <td>4.92</td>\n",
              "      <td>4.63</td>\n",
              "      <td>NaN</td>\n",
              "      <td>f</td>\n",
              "      <td>1</td>\n",
              "      <td>1</td>\n",
              "      <td>0</td>\n",
              "      <td>0</td>\n",
              "      <td>0.91</td>\n",
              "    </tr>\n",
              "  </tbody>\n",
              "</table>\n",
              "<p>5 rows × 75 columns</p>\n",
              "</div>\n",
              "      <button class=\"colab-df-convert\" onclick=\"convertToInteractive('df-2be6c78f-d837-47e1-9d27-0fa2c0a916d7')\"\n",
              "              title=\"Convert this dataframe to an interactive table.\"\n",
              "              style=\"display:none;\">\n",
              "        \n",
              "  <svg xmlns=\"http://www.w3.org/2000/svg\" height=\"24px\"viewBox=\"0 0 24 24\"\n",
              "       width=\"24px\">\n",
              "    <path d=\"M0 0h24v24H0V0z\" fill=\"none\"/>\n",
              "    <path d=\"M18.56 5.44l.94 2.06.94-2.06 2.06-.94-2.06-.94-.94-2.06-.94 2.06-2.06.94zm-11 1L8.5 8.5l.94-2.06 2.06-.94-2.06-.94L8.5 2.5l-.94 2.06-2.06.94zm10 10l.94 2.06.94-2.06 2.06-.94-2.06-.94-.94-2.06-.94 2.06-2.06.94z\"/><path d=\"M17.41 7.96l-1.37-1.37c-.4-.4-.92-.59-1.43-.59-.52 0-1.04.2-1.43.59L10.3 9.45l-7.72 7.72c-.78.78-.78 2.05 0 2.83L4 21.41c.39.39.9.59 1.41.59.51 0 1.02-.2 1.41-.59l7.78-7.78 2.81-2.81c.8-.78.8-2.07 0-2.86zM5.41 20L4 18.59l7.72-7.72 1.47 1.35L5.41 20z\"/>\n",
              "  </svg>\n",
              "      </button>\n",
              "      \n",
              "  <style>\n",
              "    .colab-df-container {\n",
              "      display:flex;\n",
              "      flex-wrap:wrap;\n",
              "      gap: 12px;\n",
              "    }\n",
              "\n",
              "    .colab-df-convert {\n",
              "      background-color: #E8F0FE;\n",
              "      border: none;\n",
              "      border-radius: 50%;\n",
              "      cursor: pointer;\n",
              "      display: none;\n",
              "      fill: #1967D2;\n",
              "      height: 32px;\n",
              "      padding: 0 0 0 0;\n",
              "      width: 32px;\n",
              "    }\n",
              "\n",
              "    .colab-df-convert:hover {\n",
              "      background-color: #E2EBFA;\n",
              "      box-shadow: 0px 1px 2px rgba(60, 64, 67, 0.3), 0px 1px 3px 1px rgba(60, 64, 67, 0.15);\n",
              "      fill: #174EA6;\n",
              "    }\n",
              "\n",
              "    [theme=dark] .colab-df-convert {\n",
              "      background-color: #3B4455;\n",
              "      fill: #D2E3FC;\n",
              "    }\n",
              "\n",
              "    [theme=dark] .colab-df-convert:hover {\n",
              "      background-color: #434B5C;\n",
              "      box-shadow: 0px 1px 3px 1px rgba(0, 0, 0, 0.15);\n",
              "      filter: drop-shadow(0px 1px 2px rgba(0, 0, 0, 0.3));\n",
              "      fill: #FFFFFF;\n",
              "    }\n",
              "  </style>\n",
              "\n",
              "      <script>\n",
              "        const buttonEl =\n",
              "          document.querySelector('#df-2be6c78f-d837-47e1-9d27-0fa2c0a916d7 button.colab-df-convert');\n",
              "        buttonEl.style.display =\n",
              "          google.colab.kernel.accessAllowed ? 'block' : 'none';\n",
              "\n",
              "        async function convertToInteractive(key) {\n",
              "          const element = document.querySelector('#df-2be6c78f-d837-47e1-9d27-0fa2c0a916d7');\n",
              "          const dataTable =\n",
              "            await google.colab.kernel.invokeFunction('convertToInteractive',\n",
              "                                                     [key], {});\n",
              "          if (!dataTable) return;\n",
              "\n",
              "          const docLinkHtml = 'Like what you see? Visit the ' +\n",
              "            '<a target=\"_blank\" href=https://colab.research.google.com/notebooks/data_table.ipynb>data table notebook</a>'\n",
              "            + ' to learn more about interactive tables.';\n",
              "          element.innerHTML = '';\n",
              "          dataTable['output_type'] = 'display_data';\n",
              "          await google.colab.output.renderOutput(dataTable, element);\n",
              "          const docLink = document.createElement('div');\n",
              "          docLink.innerHTML = docLinkHtml;\n",
              "          element.appendChild(docLink);\n",
              "        }\n",
              "      </script>\n",
              "    </div>\n",
              "  </div>\n",
              "  "
            ]
          },
          "metadata": {},
          "execution_count": 2
        }
      ]
    },
    {
      "cell_type": "code",
      "source": [
        "# Filtrar por columnas\n",
        "df1 = df.loc[:, ['number_of_reviews', 'host_acceptance_rate', 'price', 'availability_365', 'review_scores_rating', 'review_scores_cleanliness', 'review_scores_communication', 'room_type']]\n",
        "df1.head()"
      ],
      "metadata": {
        "id": "8i00abcjHSVY",
        "colab": {
          "base_uri": "https://localhost:8080/",
          "height": 357
        },
        "outputId": "dfdff069-8b44-48dd-dbec-d0d5f7bbe333"
      },
      "execution_count": 3,
      "outputs": [
        {
          "output_type": "execute_result",
          "data": {
            "text/plain": [
              "   number_of_reviews host_acceptance_rate    price  availability_365  \\\n",
              "0                  0                 100%   $88.00                 6   \n",
              "1                 29                 100%   $36.00                 6   \n",
              "2                126                 100%   $60.00               163   \n",
              "3                  0                 100%  $120.00               257   \n",
              "4                147                   0%  $150.00               350   \n",
              "\n",
              "   review_scores_rating  review_scores_cleanliness  \\\n",
              "0                   NaN                        NaN   \n",
              "1                  4.79                       4.52   \n",
              "2                  4.98                       4.98   \n",
              "3                   NaN                        NaN   \n",
              "4                  4.63                       4.53   \n",
              "\n",
              "   review_scores_communication        room_type  \n",
              "0                          NaN  Entire home/apt  \n",
              "1                         4.93  Entire home/apt  \n",
              "2                         4.99  Entire home/apt  \n",
              "3                          NaN  Entire home/apt  \n",
              "4                         4.69  Entire home/apt  "
            ],
            "text/html": [
              "\n",
              "  <div id=\"df-120409e7-d140-4264-8f47-4c87c5a8c4ad\">\n",
              "    <div class=\"colab-df-container\">\n",
              "      <div>\n",
              "<style scoped>\n",
              "    .dataframe tbody tr th:only-of-type {\n",
              "        vertical-align: middle;\n",
              "    }\n",
              "\n",
              "    .dataframe tbody tr th {\n",
              "        vertical-align: top;\n",
              "    }\n",
              "\n",
              "    .dataframe thead th {\n",
              "        text-align: right;\n",
              "    }\n",
              "</style>\n",
              "<table border=\"1\" class=\"dataframe\">\n",
              "  <thead>\n",
              "    <tr style=\"text-align: right;\">\n",
              "      <th></th>\n",
              "      <th>number_of_reviews</th>\n",
              "      <th>host_acceptance_rate</th>\n",
              "      <th>price</th>\n",
              "      <th>availability_365</th>\n",
              "      <th>review_scores_rating</th>\n",
              "      <th>review_scores_cleanliness</th>\n",
              "      <th>review_scores_communication</th>\n",
              "      <th>room_type</th>\n",
              "    </tr>\n",
              "  </thead>\n",
              "  <tbody>\n",
              "    <tr>\n",
              "      <th>0</th>\n",
              "      <td>0</td>\n",
              "      <td>100%</td>\n",
              "      <td>$88.00</td>\n",
              "      <td>6</td>\n",
              "      <td>NaN</td>\n",
              "      <td>NaN</td>\n",
              "      <td>NaN</td>\n",
              "      <td>Entire home/apt</td>\n",
              "    </tr>\n",
              "    <tr>\n",
              "      <th>1</th>\n",
              "      <td>29</td>\n",
              "      <td>100%</td>\n",
              "      <td>$36.00</td>\n",
              "      <td>6</td>\n",
              "      <td>4.79</td>\n",
              "      <td>4.52</td>\n",
              "      <td>4.93</td>\n",
              "      <td>Entire home/apt</td>\n",
              "    </tr>\n",
              "    <tr>\n",
              "      <th>2</th>\n",
              "      <td>126</td>\n",
              "      <td>100%</td>\n",
              "      <td>$60.00</td>\n",
              "      <td>163</td>\n",
              "      <td>4.98</td>\n",
              "      <td>4.98</td>\n",
              "      <td>4.99</td>\n",
              "      <td>Entire home/apt</td>\n",
              "    </tr>\n",
              "    <tr>\n",
              "      <th>3</th>\n",
              "      <td>0</td>\n",
              "      <td>100%</td>\n",
              "      <td>$120.00</td>\n",
              "      <td>257</td>\n",
              "      <td>NaN</td>\n",
              "      <td>NaN</td>\n",
              "      <td>NaN</td>\n",
              "      <td>Entire home/apt</td>\n",
              "    </tr>\n",
              "    <tr>\n",
              "      <th>4</th>\n",
              "      <td>147</td>\n",
              "      <td>0%</td>\n",
              "      <td>$150.00</td>\n",
              "      <td>350</td>\n",
              "      <td>4.63</td>\n",
              "      <td>4.53</td>\n",
              "      <td>4.69</td>\n",
              "      <td>Entire home/apt</td>\n",
              "    </tr>\n",
              "  </tbody>\n",
              "</table>\n",
              "</div>\n",
              "      <button class=\"colab-df-convert\" onclick=\"convertToInteractive('df-120409e7-d140-4264-8f47-4c87c5a8c4ad')\"\n",
              "              title=\"Convert this dataframe to an interactive table.\"\n",
              "              style=\"display:none;\">\n",
              "        \n",
              "  <svg xmlns=\"http://www.w3.org/2000/svg\" height=\"24px\"viewBox=\"0 0 24 24\"\n",
              "       width=\"24px\">\n",
              "    <path d=\"M0 0h24v24H0V0z\" fill=\"none\"/>\n",
              "    <path d=\"M18.56 5.44l.94 2.06.94-2.06 2.06-.94-2.06-.94-.94-2.06-.94 2.06-2.06.94zm-11 1L8.5 8.5l.94-2.06 2.06-.94-2.06-.94L8.5 2.5l-.94 2.06-2.06.94zm10 10l.94 2.06.94-2.06 2.06-.94-2.06-.94-.94-2.06-.94 2.06-2.06.94z\"/><path d=\"M17.41 7.96l-1.37-1.37c-.4-.4-.92-.59-1.43-.59-.52 0-1.04.2-1.43.59L10.3 9.45l-7.72 7.72c-.78.78-.78 2.05 0 2.83L4 21.41c.39.39.9.59 1.41.59.51 0 1.02-.2 1.41-.59l7.78-7.78 2.81-2.81c.8-.78.8-2.07 0-2.86zM5.41 20L4 18.59l7.72-7.72 1.47 1.35L5.41 20z\"/>\n",
              "  </svg>\n",
              "      </button>\n",
              "      \n",
              "  <style>\n",
              "    .colab-df-container {\n",
              "      display:flex;\n",
              "      flex-wrap:wrap;\n",
              "      gap: 12px;\n",
              "    }\n",
              "\n",
              "    .colab-df-convert {\n",
              "      background-color: #E8F0FE;\n",
              "      border: none;\n",
              "      border-radius: 50%;\n",
              "      cursor: pointer;\n",
              "      display: none;\n",
              "      fill: #1967D2;\n",
              "      height: 32px;\n",
              "      padding: 0 0 0 0;\n",
              "      width: 32px;\n",
              "    }\n",
              "\n",
              "    .colab-df-convert:hover {\n",
              "      background-color: #E2EBFA;\n",
              "      box-shadow: 0px 1px 2px rgba(60, 64, 67, 0.3), 0px 1px 3px 1px rgba(60, 64, 67, 0.15);\n",
              "      fill: #174EA6;\n",
              "    }\n",
              "\n",
              "    [theme=dark] .colab-df-convert {\n",
              "      background-color: #3B4455;\n",
              "      fill: #D2E3FC;\n",
              "    }\n",
              "\n",
              "    [theme=dark] .colab-df-convert:hover {\n",
              "      background-color: #434B5C;\n",
              "      box-shadow: 0px 1px 3px 1px rgba(0, 0, 0, 0.15);\n",
              "      filter: drop-shadow(0px 1px 2px rgba(0, 0, 0, 0.3));\n",
              "      fill: #FFFFFF;\n",
              "    }\n",
              "  </style>\n",
              "\n",
              "      <script>\n",
              "        const buttonEl =\n",
              "          document.querySelector('#df-120409e7-d140-4264-8f47-4c87c5a8c4ad button.colab-df-convert');\n",
              "        buttonEl.style.display =\n",
              "          google.colab.kernel.accessAllowed ? 'block' : 'none';\n",
              "\n",
              "        async function convertToInteractive(key) {\n",
              "          const element = document.querySelector('#df-120409e7-d140-4264-8f47-4c87c5a8c4ad');\n",
              "          const dataTable =\n",
              "            await google.colab.kernel.invokeFunction('convertToInteractive',\n",
              "                                                     [key], {});\n",
              "          if (!dataTable) return;\n",
              "\n",
              "          const docLinkHtml = 'Like what you see? Visit the ' +\n",
              "            '<a target=\"_blank\" href=https://colab.research.google.com/notebooks/data_table.ipynb>data table notebook</a>'\n",
              "            + ' to learn more about interactive tables.';\n",
              "          element.innerHTML = '';\n",
              "          dataTable['output_type'] = 'display_data';\n",
              "          await google.colab.output.renderOutput(dataTable, element);\n",
              "          const docLink = document.createElement('div');\n",
              "          docLink.innerHTML = docLinkHtml;\n",
              "          element.appendChild(docLink);\n",
              "        }\n",
              "      </script>\n",
              "    </div>\n",
              "  </div>\n",
              "  "
            ]
          },
          "metadata": {},
          "execution_count": 3
        }
      ]
    },
    {
      "cell_type": "code",
      "source": [
        "df1[\"host_acceptance_rate\"] = df1[\"host_acceptance_rate\"].str.replace(\"%\",\"\")\n",
        "df1[\"price\"] = df1[\"price\"].str.replace(\"$\",\"\")\n",
        "df1[\"price\"] = df1[\"price\"].str.replace(\",\",\"\")\n",
        "df1.head()"
      ],
      "metadata": {
        "colab": {
          "base_uri": "https://localhost:8080/",
          "height": 392
        },
        "id": "WOnEr7B4QCHb",
        "outputId": "a3320cc1-4993-45af-f6e1-991d26bb68f3"
      },
      "execution_count": 4,
      "outputs": [
        {
          "output_type": "stream",
          "name": "stderr",
          "text": [
            "/usr/local/lib/python3.7/dist-packages/ipykernel_launcher.py:2: FutureWarning: The default value of regex will change from True to False in a future version. In addition, single character regular expressions will *not* be treated as literal strings when regex=True.\n",
            "  \n"
          ]
        },
        {
          "output_type": "execute_result",
          "data": {
            "text/plain": [
              "   number_of_reviews host_acceptance_rate   price  availability_365  \\\n",
              "0                  0                  100   88.00                 6   \n",
              "1                 29                  100   36.00                 6   \n",
              "2                126                  100   60.00               163   \n",
              "3                  0                  100  120.00               257   \n",
              "4                147                    0  150.00               350   \n",
              "\n",
              "   review_scores_rating  review_scores_cleanliness  \\\n",
              "0                   NaN                        NaN   \n",
              "1                  4.79                       4.52   \n",
              "2                  4.98                       4.98   \n",
              "3                   NaN                        NaN   \n",
              "4                  4.63                       4.53   \n",
              "\n",
              "   review_scores_communication        room_type  \n",
              "0                          NaN  Entire home/apt  \n",
              "1                         4.93  Entire home/apt  \n",
              "2                         4.99  Entire home/apt  \n",
              "3                          NaN  Entire home/apt  \n",
              "4                         4.69  Entire home/apt  "
            ],
            "text/html": [
              "\n",
              "  <div id=\"df-b642053a-0bf8-4e49-8744-9ca7d7d9f106\">\n",
              "    <div class=\"colab-df-container\">\n",
              "      <div>\n",
              "<style scoped>\n",
              "    .dataframe tbody tr th:only-of-type {\n",
              "        vertical-align: middle;\n",
              "    }\n",
              "\n",
              "    .dataframe tbody tr th {\n",
              "        vertical-align: top;\n",
              "    }\n",
              "\n",
              "    .dataframe thead th {\n",
              "        text-align: right;\n",
              "    }\n",
              "</style>\n",
              "<table border=\"1\" class=\"dataframe\">\n",
              "  <thead>\n",
              "    <tr style=\"text-align: right;\">\n",
              "      <th></th>\n",
              "      <th>number_of_reviews</th>\n",
              "      <th>host_acceptance_rate</th>\n",
              "      <th>price</th>\n",
              "      <th>availability_365</th>\n",
              "      <th>review_scores_rating</th>\n",
              "      <th>review_scores_cleanliness</th>\n",
              "      <th>review_scores_communication</th>\n",
              "      <th>room_type</th>\n",
              "    </tr>\n",
              "  </thead>\n",
              "  <tbody>\n",
              "    <tr>\n",
              "      <th>0</th>\n",
              "      <td>0</td>\n",
              "      <td>100</td>\n",
              "      <td>88.00</td>\n",
              "      <td>6</td>\n",
              "      <td>NaN</td>\n",
              "      <td>NaN</td>\n",
              "      <td>NaN</td>\n",
              "      <td>Entire home/apt</td>\n",
              "    </tr>\n",
              "    <tr>\n",
              "      <th>1</th>\n",
              "      <td>29</td>\n",
              "      <td>100</td>\n",
              "      <td>36.00</td>\n",
              "      <td>6</td>\n",
              "      <td>4.79</td>\n",
              "      <td>4.52</td>\n",
              "      <td>4.93</td>\n",
              "      <td>Entire home/apt</td>\n",
              "    </tr>\n",
              "    <tr>\n",
              "      <th>2</th>\n",
              "      <td>126</td>\n",
              "      <td>100</td>\n",
              "      <td>60.00</td>\n",
              "      <td>163</td>\n",
              "      <td>4.98</td>\n",
              "      <td>4.98</td>\n",
              "      <td>4.99</td>\n",
              "      <td>Entire home/apt</td>\n",
              "    </tr>\n",
              "    <tr>\n",
              "      <th>3</th>\n",
              "      <td>0</td>\n",
              "      <td>100</td>\n",
              "      <td>120.00</td>\n",
              "      <td>257</td>\n",
              "      <td>NaN</td>\n",
              "      <td>NaN</td>\n",
              "      <td>NaN</td>\n",
              "      <td>Entire home/apt</td>\n",
              "    </tr>\n",
              "    <tr>\n",
              "      <th>4</th>\n",
              "      <td>147</td>\n",
              "      <td>0</td>\n",
              "      <td>150.00</td>\n",
              "      <td>350</td>\n",
              "      <td>4.63</td>\n",
              "      <td>4.53</td>\n",
              "      <td>4.69</td>\n",
              "      <td>Entire home/apt</td>\n",
              "    </tr>\n",
              "  </tbody>\n",
              "</table>\n",
              "</div>\n",
              "      <button class=\"colab-df-convert\" onclick=\"convertToInteractive('df-b642053a-0bf8-4e49-8744-9ca7d7d9f106')\"\n",
              "              title=\"Convert this dataframe to an interactive table.\"\n",
              "              style=\"display:none;\">\n",
              "        \n",
              "  <svg xmlns=\"http://www.w3.org/2000/svg\" height=\"24px\"viewBox=\"0 0 24 24\"\n",
              "       width=\"24px\">\n",
              "    <path d=\"M0 0h24v24H0V0z\" fill=\"none\"/>\n",
              "    <path d=\"M18.56 5.44l.94 2.06.94-2.06 2.06-.94-2.06-.94-.94-2.06-.94 2.06-2.06.94zm-11 1L8.5 8.5l.94-2.06 2.06-.94-2.06-.94L8.5 2.5l-.94 2.06-2.06.94zm10 10l.94 2.06.94-2.06 2.06-.94-2.06-.94-.94-2.06-.94 2.06-2.06.94z\"/><path d=\"M17.41 7.96l-1.37-1.37c-.4-.4-.92-.59-1.43-.59-.52 0-1.04.2-1.43.59L10.3 9.45l-7.72 7.72c-.78.78-.78 2.05 0 2.83L4 21.41c.39.39.9.59 1.41.59.51 0 1.02-.2 1.41-.59l7.78-7.78 2.81-2.81c.8-.78.8-2.07 0-2.86zM5.41 20L4 18.59l7.72-7.72 1.47 1.35L5.41 20z\"/>\n",
              "  </svg>\n",
              "      </button>\n",
              "      \n",
              "  <style>\n",
              "    .colab-df-container {\n",
              "      display:flex;\n",
              "      flex-wrap:wrap;\n",
              "      gap: 12px;\n",
              "    }\n",
              "\n",
              "    .colab-df-convert {\n",
              "      background-color: #E8F0FE;\n",
              "      border: none;\n",
              "      border-radius: 50%;\n",
              "      cursor: pointer;\n",
              "      display: none;\n",
              "      fill: #1967D2;\n",
              "      height: 32px;\n",
              "      padding: 0 0 0 0;\n",
              "      width: 32px;\n",
              "    }\n",
              "\n",
              "    .colab-df-convert:hover {\n",
              "      background-color: #E2EBFA;\n",
              "      box-shadow: 0px 1px 2px rgba(60, 64, 67, 0.3), 0px 1px 3px 1px rgba(60, 64, 67, 0.15);\n",
              "      fill: #174EA6;\n",
              "    }\n",
              "\n",
              "    [theme=dark] .colab-df-convert {\n",
              "      background-color: #3B4455;\n",
              "      fill: #D2E3FC;\n",
              "    }\n",
              "\n",
              "    [theme=dark] .colab-df-convert:hover {\n",
              "      background-color: #434B5C;\n",
              "      box-shadow: 0px 1px 3px 1px rgba(0, 0, 0, 0.15);\n",
              "      filter: drop-shadow(0px 1px 2px rgba(0, 0, 0, 0.3));\n",
              "      fill: #FFFFFF;\n",
              "    }\n",
              "  </style>\n",
              "\n",
              "      <script>\n",
              "        const buttonEl =\n",
              "          document.querySelector('#df-b642053a-0bf8-4e49-8744-9ca7d7d9f106 button.colab-df-convert');\n",
              "        buttonEl.style.display =\n",
              "          google.colab.kernel.accessAllowed ? 'block' : 'none';\n",
              "\n",
              "        async function convertToInteractive(key) {\n",
              "          const element = document.querySelector('#df-b642053a-0bf8-4e49-8744-9ca7d7d9f106');\n",
              "          const dataTable =\n",
              "            await google.colab.kernel.invokeFunction('convertToInteractive',\n",
              "                                                     [key], {});\n",
              "          if (!dataTable) return;\n",
              "\n",
              "          const docLinkHtml = 'Like what you see? Visit the ' +\n",
              "            '<a target=\"_blank\" href=https://colab.research.google.com/notebooks/data_table.ipynb>data table notebook</a>'\n",
              "            + ' to learn more about interactive tables.';\n",
              "          element.innerHTML = '';\n",
              "          dataTable['output_type'] = 'display_data';\n",
              "          await google.colab.output.renderOutput(dataTable, element);\n",
              "          const docLink = document.createElement('div');\n",
              "          docLink.innerHTML = docLinkHtml;\n",
              "          element.appendChild(docLink);\n",
              "        }\n",
              "      </script>\n",
              "    </div>\n",
              "  </div>\n",
              "  "
            ]
          },
          "metadata": {},
          "execution_count": 4
        }
      ]
    },
    {
      "cell_type": "markdown",
      "source": [
        "3. Realiza las acciones de preprocesamiento necesarias: Nulos y Outliers"
      ],
      "metadata": {
        "id": "Rb6EsBmomTGV"
      }
    },
    {
      "cell_type": "code",
      "source": [
        "df1.info()"
      ],
      "metadata": {
        "id": "uzyTYR2dJO36",
        "colab": {
          "base_uri": "https://localhost:8080/"
        },
        "outputId": "769b26eb-7d00-4b0b-a302-b21835b088ad"
      },
      "execution_count": 5,
      "outputs": [
        {
          "output_type": "stream",
          "name": "stdout",
          "text": [
            "<class 'pandas.core.frame.DataFrame'>\n",
            "RangeIndex: 16680 entries, 0 to 16679\n",
            "Data columns (total 8 columns):\n",
            " #   Column                       Non-Null Count  Dtype  \n",
            "---  ------                       --------------  -----  \n",
            " 0   number_of_reviews            16680 non-null  int64  \n",
            " 1   host_acceptance_rate         9196 non-null   object \n",
            " 2   price                        16680 non-null  object \n",
            " 3   availability_365             16680 non-null  int64  \n",
            " 4   review_scores_rating         13812 non-null  float64\n",
            " 5   review_scores_cleanliness    13563 non-null  float64\n",
            " 6   review_scores_communication  13561 non-null  float64\n",
            " 7   room_type                    16680 non-null  object \n",
            "dtypes: float64(3), int64(2), object(3)\n",
            "memory usage: 1.0+ MB\n"
          ]
        }
      ]
    },
    {
      "cell_type": "code",
      "source": [
        "df1['host_acceptance_rate'] = df1['host_acceptance_rate'].astype('float64')\n",
        "df1['price'] = df1['price'].astype('float64')\n",
        "df1.info()"
      ],
      "metadata": {
        "colab": {
          "base_uri": "https://localhost:8080/"
        },
        "id": "NOs3HfjtQRB_",
        "outputId": "6eac2790-afcc-4ab4-92a6-4d17bd4f3cfc"
      },
      "execution_count": 6,
      "outputs": [
        {
          "output_type": "stream",
          "name": "stdout",
          "text": [
            "<class 'pandas.core.frame.DataFrame'>\n",
            "RangeIndex: 16680 entries, 0 to 16679\n",
            "Data columns (total 8 columns):\n",
            " #   Column                       Non-Null Count  Dtype  \n",
            "---  ------                       --------------  -----  \n",
            " 0   number_of_reviews            16680 non-null  int64  \n",
            " 1   host_acceptance_rate         9196 non-null   float64\n",
            " 2   price                        16680 non-null  float64\n",
            " 3   availability_365             16680 non-null  int64  \n",
            " 4   review_scores_rating         13812 non-null  float64\n",
            " 5   review_scores_cleanliness    13563 non-null  float64\n",
            " 6   review_scores_communication  13561 non-null  float64\n",
            " 7   room_type                    16680 non-null  object \n",
            "dtypes: float64(5), int64(2), object(1)\n",
            "memory usage: 1.0+ MB\n"
          ]
        }
      ]
    },
    {
      "cell_type": "code",
      "source": [
        "df1['review_scores_rating'].fillna(df1['review_scores_rating'].mean(), inplace = True)\n",
        "df1['review_scores_cleanliness'].fillna(df1['review_scores_cleanliness'].mean(), inplace = True)\n",
        "df1['host_acceptance_rate'].fillna(df1['host_acceptance_rate'].mean(), inplace = True)\n",
        "df1['review_scores_communication'].fillna(df1['review_scores_communication'].mean(), inplace = True)"
      ],
      "metadata": {
        "id": "M9uKJ17PHJMi"
      },
      "execution_count": 7,
      "outputs": []
    },
    {
      "cell_type": "code",
      "source": [
        "df1.info()"
      ],
      "metadata": {
        "colab": {
          "base_uri": "https://localhost:8080/"
        },
        "id": "Sv7IeQ9EHdLa",
        "outputId": "07ec89e2-dbe8-4b43-bfdd-1eab287a50f6"
      },
      "execution_count": 8,
      "outputs": [
        {
          "output_type": "stream",
          "name": "stdout",
          "text": [
            "<class 'pandas.core.frame.DataFrame'>\n",
            "RangeIndex: 16680 entries, 0 to 16679\n",
            "Data columns (total 8 columns):\n",
            " #   Column                       Non-Null Count  Dtype  \n",
            "---  ------                       --------------  -----  \n",
            " 0   number_of_reviews            16680 non-null  int64  \n",
            " 1   host_acceptance_rate         16680 non-null  float64\n",
            " 2   price                        16680 non-null  float64\n",
            " 3   availability_365             16680 non-null  int64  \n",
            " 4   review_scores_rating         16680 non-null  float64\n",
            " 5   review_scores_cleanliness    16680 non-null  float64\n",
            " 6   review_scores_communication  16680 non-null  float64\n",
            " 7   room_type                    16680 non-null  object \n",
            "dtypes: float64(5), int64(2), object(1)\n",
            "memory usage: 1.0+ MB\n"
          ]
        }
      ]
    },
    {
      "cell_type": "code",
      "source": [
        "y = df1\n",
        "\n",
        "percentile25=y.quantile(0.25) #Q1\n",
        "percentile75=y.quantile(0.75) #Q3\n",
        "iqr= percentile75 - percentile25\n",
        "\n",
        "Limite_Superior_iqr= percentile75 + 1.5*iqr\n",
        "Limite_Inferior_iqr= percentile25 - 1.5*iqr\n",
        "print(\"Limite superior permitido\", Limite_Superior_iqr)\n",
        "print(\"Limite inferior permitido\", Limite_Inferior_iqr)"
      ],
      "metadata": {
        "colab": {
          "base_uri": "https://localhost:8080/"
        },
        "id": "5t_SmrxYQZ1t",
        "outputId": "e6c6ea1a-50ba-419d-8338-95f6f3cf44f5"
      },
      "execution_count": 9,
      "outputs": [
        {
          "output_type": "stream",
          "name": "stdout",
          "text": [
            "Limite superior permitido number_of_reviews               53.500000\n",
            "host_acceptance_rate           122.738365\n",
            "price                          215.000000\n",
            "availability_365               417.500000\n",
            "review_scores_rating             5.525206\n",
            "review_scores_cleanliness        5.500000\n",
            "review_scores_communication      5.263283\n",
            "dtype: float64\n",
            "Limite inferior permitido number_of_reviews              -30.500000\n",
            "host_acceptance_rate            51.436059\n",
            "price                          -65.000000\n",
            "availability_365              -250.500000\n",
            "review_scores_rating             4.124656\n",
            "review_scores_cleanliness        4.060000\n",
            "review_scores_communication      4.561196\n",
            "dtype: float64\n"
          ]
        }
      ]
    },
    {
      "cell_type": "code",
      "source": [
        "df2 = df1[(y<=Limite_Superior_iqr)&(y>=Limite_Inferior_iqr)]\n",
        "df2"
      ],
      "metadata": {
        "colab": {
          "base_uri": "https://localhost:8080/",
          "height": 522
        },
        "id": "SQjyQx3gRSPO",
        "outputId": "12bc3b53-e17a-420b-d0b9-cddb3e15d73b"
      },
      "execution_count": 10,
      "outputs": [
        {
          "output_type": "stream",
          "name": "stderr",
          "text": [
            "/usr/local/lib/python3.7/dist-packages/ipykernel_launcher.py:1: FutureWarning: Automatic reindexing on DataFrame vs Series comparisons is deprecated and will raise ValueError in a future version.  Do `left, right = left.align(right, axis=1, copy=False)` before e.g. `left == right`\n",
            "  \"\"\"Entry point for launching an IPython kernel.\n"
          ]
        },
        {
          "output_type": "execute_result",
          "data": {
            "text/plain": [
              "       number_of_reviews  host_acceptance_rate  price  availability_365  \\\n",
              "0                    0.0            100.000000   88.0                 6   \n",
              "1                   29.0            100.000000   36.0                 6   \n",
              "2                    NaN            100.000000   60.0               163   \n",
              "3                    0.0            100.000000  120.0               257   \n",
              "4                    NaN                   NaN  150.0               350   \n",
              "...                  ...                   ...    ...               ...   \n",
              "16675                0.0                   NaN   99.0               351   \n",
              "16676               23.0             86.000000  160.0               148   \n",
              "16677                0.0                   NaN  195.0               336   \n",
              "16678                0.0             78.174424   60.0               288   \n",
              "16679                0.0             98.000000   60.0                75   \n",
              "\n",
              "       review_scores_rating  review_scores_cleanliness  \\\n",
              "0                  4.649862                   4.648379   \n",
              "1                  4.790000                   4.520000   \n",
              "2                  4.980000                   4.980000   \n",
              "3                  4.649862                   4.648379   \n",
              "4                  4.630000                   4.530000   \n",
              "...                     ...                        ...   \n",
              "16675              4.649862                   4.648379   \n",
              "16676              5.000000                   4.960000   \n",
              "16677              4.649862                   4.648379   \n",
              "16678              4.649862                   4.648379   \n",
              "16679              4.649862                   4.648379   \n",
              "\n",
              "       review_scores_communication room_type  \n",
              "0                         4.824478       NaN  \n",
              "1                         4.930000       NaN  \n",
              "2                         4.990000       NaN  \n",
              "3                         4.824478       NaN  \n",
              "4                         4.690000       NaN  \n",
              "...                            ...       ...  \n",
              "16675                     4.824478       NaN  \n",
              "16676                     5.000000       NaN  \n",
              "16677                     4.824478       NaN  \n",
              "16678                     4.824478       NaN  \n",
              "16679                     4.824478       NaN  \n",
              "\n",
              "[16680 rows x 8 columns]"
            ],
            "text/html": [
              "\n",
              "  <div id=\"df-2ed6ea27-fd30-4946-9db5-1f8513dc7aba\">\n",
              "    <div class=\"colab-df-container\">\n",
              "      <div>\n",
              "<style scoped>\n",
              "    .dataframe tbody tr th:only-of-type {\n",
              "        vertical-align: middle;\n",
              "    }\n",
              "\n",
              "    .dataframe tbody tr th {\n",
              "        vertical-align: top;\n",
              "    }\n",
              "\n",
              "    .dataframe thead th {\n",
              "        text-align: right;\n",
              "    }\n",
              "</style>\n",
              "<table border=\"1\" class=\"dataframe\">\n",
              "  <thead>\n",
              "    <tr style=\"text-align: right;\">\n",
              "      <th></th>\n",
              "      <th>number_of_reviews</th>\n",
              "      <th>host_acceptance_rate</th>\n",
              "      <th>price</th>\n",
              "      <th>availability_365</th>\n",
              "      <th>review_scores_rating</th>\n",
              "      <th>review_scores_cleanliness</th>\n",
              "      <th>review_scores_communication</th>\n",
              "      <th>room_type</th>\n",
              "    </tr>\n",
              "  </thead>\n",
              "  <tbody>\n",
              "    <tr>\n",
              "      <th>0</th>\n",
              "      <td>0.0</td>\n",
              "      <td>100.000000</td>\n",
              "      <td>88.0</td>\n",
              "      <td>6</td>\n",
              "      <td>4.649862</td>\n",
              "      <td>4.648379</td>\n",
              "      <td>4.824478</td>\n",
              "      <td>NaN</td>\n",
              "    </tr>\n",
              "    <tr>\n",
              "      <th>1</th>\n",
              "      <td>29.0</td>\n",
              "      <td>100.000000</td>\n",
              "      <td>36.0</td>\n",
              "      <td>6</td>\n",
              "      <td>4.790000</td>\n",
              "      <td>4.520000</td>\n",
              "      <td>4.930000</td>\n",
              "      <td>NaN</td>\n",
              "    </tr>\n",
              "    <tr>\n",
              "      <th>2</th>\n",
              "      <td>NaN</td>\n",
              "      <td>100.000000</td>\n",
              "      <td>60.0</td>\n",
              "      <td>163</td>\n",
              "      <td>4.980000</td>\n",
              "      <td>4.980000</td>\n",
              "      <td>4.990000</td>\n",
              "      <td>NaN</td>\n",
              "    </tr>\n",
              "    <tr>\n",
              "      <th>3</th>\n",
              "      <td>0.0</td>\n",
              "      <td>100.000000</td>\n",
              "      <td>120.0</td>\n",
              "      <td>257</td>\n",
              "      <td>4.649862</td>\n",
              "      <td>4.648379</td>\n",
              "      <td>4.824478</td>\n",
              "      <td>NaN</td>\n",
              "    </tr>\n",
              "    <tr>\n",
              "      <th>4</th>\n",
              "      <td>NaN</td>\n",
              "      <td>NaN</td>\n",
              "      <td>150.0</td>\n",
              "      <td>350</td>\n",
              "      <td>4.630000</td>\n",
              "      <td>4.530000</td>\n",
              "      <td>4.690000</td>\n",
              "      <td>NaN</td>\n",
              "    </tr>\n",
              "    <tr>\n",
              "      <th>...</th>\n",
              "      <td>...</td>\n",
              "      <td>...</td>\n",
              "      <td>...</td>\n",
              "      <td>...</td>\n",
              "      <td>...</td>\n",
              "      <td>...</td>\n",
              "      <td>...</td>\n",
              "      <td>...</td>\n",
              "    </tr>\n",
              "    <tr>\n",
              "      <th>16675</th>\n",
              "      <td>0.0</td>\n",
              "      <td>NaN</td>\n",
              "      <td>99.0</td>\n",
              "      <td>351</td>\n",
              "      <td>4.649862</td>\n",
              "      <td>4.648379</td>\n",
              "      <td>4.824478</td>\n",
              "      <td>NaN</td>\n",
              "    </tr>\n",
              "    <tr>\n",
              "      <th>16676</th>\n",
              "      <td>23.0</td>\n",
              "      <td>86.000000</td>\n",
              "      <td>160.0</td>\n",
              "      <td>148</td>\n",
              "      <td>5.000000</td>\n",
              "      <td>4.960000</td>\n",
              "      <td>5.000000</td>\n",
              "      <td>NaN</td>\n",
              "    </tr>\n",
              "    <tr>\n",
              "      <th>16677</th>\n",
              "      <td>0.0</td>\n",
              "      <td>NaN</td>\n",
              "      <td>195.0</td>\n",
              "      <td>336</td>\n",
              "      <td>4.649862</td>\n",
              "      <td>4.648379</td>\n",
              "      <td>4.824478</td>\n",
              "      <td>NaN</td>\n",
              "    </tr>\n",
              "    <tr>\n",
              "      <th>16678</th>\n",
              "      <td>0.0</td>\n",
              "      <td>78.174424</td>\n",
              "      <td>60.0</td>\n",
              "      <td>288</td>\n",
              "      <td>4.649862</td>\n",
              "      <td>4.648379</td>\n",
              "      <td>4.824478</td>\n",
              "      <td>NaN</td>\n",
              "    </tr>\n",
              "    <tr>\n",
              "      <th>16679</th>\n",
              "      <td>0.0</td>\n",
              "      <td>98.000000</td>\n",
              "      <td>60.0</td>\n",
              "      <td>75</td>\n",
              "      <td>4.649862</td>\n",
              "      <td>4.648379</td>\n",
              "      <td>4.824478</td>\n",
              "      <td>NaN</td>\n",
              "    </tr>\n",
              "  </tbody>\n",
              "</table>\n",
              "<p>16680 rows × 8 columns</p>\n",
              "</div>\n",
              "      <button class=\"colab-df-convert\" onclick=\"convertToInteractive('df-2ed6ea27-fd30-4946-9db5-1f8513dc7aba')\"\n",
              "              title=\"Convert this dataframe to an interactive table.\"\n",
              "              style=\"display:none;\">\n",
              "        \n",
              "  <svg xmlns=\"http://www.w3.org/2000/svg\" height=\"24px\"viewBox=\"0 0 24 24\"\n",
              "       width=\"24px\">\n",
              "    <path d=\"M0 0h24v24H0V0z\" fill=\"none\"/>\n",
              "    <path d=\"M18.56 5.44l.94 2.06.94-2.06 2.06-.94-2.06-.94-.94-2.06-.94 2.06-2.06.94zm-11 1L8.5 8.5l.94-2.06 2.06-.94-2.06-.94L8.5 2.5l-.94 2.06-2.06.94zm10 10l.94 2.06.94-2.06 2.06-.94-2.06-.94-.94-2.06-.94 2.06-2.06.94z\"/><path d=\"M17.41 7.96l-1.37-1.37c-.4-.4-.92-.59-1.43-.59-.52 0-1.04.2-1.43.59L10.3 9.45l-7.72 7.72c-.78.78-.78 2.05 0 2.83L4 21.41c.39.39.9.59 1.41.59.51 0 1.02-.2 1.41-.59l7.78-7.78 2.81-2.81c.8-.78.8-2.07 0-2.86zM5.41 20L4 18.59l7.72-7.72 1.47 1.35L5.41 20z\"/>\n",
              "  </svg>\n",
              "      </button>\n",
              "      \n",
              "  <style>\n",
              "    .colab-df-container {\n",
              "      display:flex;\n",
              "      flex-wrap:wrap;\n",
              "      gap: 12px;\n",
              "    }\n",
              "\n",
              "    .colab-df-convert {\n",
              "      background-color: #E8F0FE;\n",
              "      border: none;\n",
              "      border-radius: 50%;\n",
              "      cursor: pointer;\n",
              "      display: none;\n",
              "      fill: #1967D2;\n",
              "      height: 32px;\n",
              "      padding: 0 0 0 0;\n",
              "      width: 32px;\n",
              "    }\n",
              "\n",
              "    .colab-df-convert:hover {\n",
              "      background-color: #E2EBFA;\n",
              "      box-shadow: 0px 1px 2px rgba(60, 64, 67, 0.3), 0px 1px 3px 1px rgba(60, 64, 67, 0.15);\n",
              "      fill: #174EA6;\n",
              "    }\n",
              "\n",
              "    [theme=dark] .colab-df-convert {\n",
              "      background-color: #3B4455;\n",
              "      fill: #D2E3FC;\n",
              "    }\n",
              "\n",
              "    [theme=dark] .colab-df-convert:hover {\n",
              "      background-color: #434B5C;\n",
              "      box-shadow: 0px 1px 3px 1px rgba(0, 0, 0, 0.15);\n",
              "      filter: drop-shadow(0px 1px 2px rgba(0, 0, 0, 0.3));\n",
              "      fill: #FFFFFF;\n",
              "    }\n",
              "  </style>\n",
              "\n",
              "      <script>\n",
              "        const buttonEl =\n",
              "          document.querySelector('#df-2ed6ea27-fd30-4946-9db5-1f8513dc7aba button.colab-df-convert');\n",
              "        buttonEl.style.display =\n",
              "          google.colab.kernel.accessAllowed ? 'block' : 'none';\n",
              "\n",
              "        async function convertToInteractive(key) {\n",
              "          const element = document.querySelector('#df-2ed6ea27-fd30-4946-9db5-1f8513dc7aba');\n",
              "          const dataTable =\n",
              "            await google.colab.kernel.invokeFunction('convertToInteractive',\n",
              "                                                     [key], {});\n",
              "          if (!dataTable) return;\n",
              "\n",
              "          const docLinkHtml = 'Like what you see? Visit the ' +\n",
              "            '<a target=\"_blank\" href=https://colab.research.google.com/notebooks/data_table.ipynb>data table notebook</a>'\n",
              "            + ' to learn more about interactive tables.';\n",
              "          element.innerHTML = '';\n",
              "          dataTable['output_type'] = 'display_data';\n",
              "          await google.colab.output.renderOutput(dataTable, element);\n",
              "          const docLink = document.createElement('div');\n",
              "          docLink.innerHTML = docLinkHtml;\n",
              "          element.appendChild(docLink);\n",
              "        }\n",
              "      </script>\n",
              "    </div>\n",
              "  </div>\n",
              "  "
            ]
          },
          "metadata": {},
          "execution_count": 10
        }
      ]
    },
    {
      "cell_type": "code",
      "source": [
        "df3 = df2.copy()\n",
        "df3 = df3.fillna(round(df2.mean(),1))\n",
        "df3"
      ],
      "metadata": {
        "colab": {
          "base_uri": "https://localhost:8080/",
          "height": 488
        },
        "id": "pGAWU2GMRXRW",
        "outputId": "df06450f-f06b-4198-cf6a-b2ec71b2e403"
      },
      "execution_count": 11,
      "outputs": [
        {
          "output_type": "execute_result",
          "data": {
            "text/plain": [
              "       number_of_reviews  host_acceptance_rate  price  availability_365  \\\n",
              "0                    0.0            100.000000   88.0                 6   \n",
              "1                   29.0            100.000000   36.0                 6   \n",
              "2                    8.9            100.000000   60.0               163   \n",
              "3                    0.0            100.000000  120.0               257   \n",
              "4                    8.9             84.200000  150.0               350   \n",
              "...                  ...                   ...    ...               ...   \n",
              "16675                0.0             84.200000   99.0               351   \n",
              "16676               23.0             86.000000  160.0               148   \n",
              "16677                0.0             84.200000  195.0               336   \n",
              "16678                0.0             78.174424   60.0               288   \n",
              "16679                0.0             98.000000   60.0                75   \n",
              "\n",
              "       review_scores_rating  review_scores_cleanliness  \\\n",
              "0                  4.649862                   4.648379   \n",
              "1                  4.790000                   4.520000   \n",
              "2                  4.980000                   4.980000   \n",
              "3                  4.649862                   4.648379   \n",
              "4                  4.630000                   4.530000   \n",
              "...                     ...                        ...   \n",
              "16675              4.649862                   4.648379   \n",
              "16676              5.000000                   4.960000   \n",
              "16677              4.649862                   4.648379   \n",
              "16678              4.649862                   4.648379   \n",
              "16679              4.649862                   4.648379   \n",
              "\n",
              "       review_scores_communication  room_type  \n",
              "0                         4.824478        NaN  \n",
              "1                         4.930000        NaN  \n",
              "2                         4.990000        NaN  \n",
              "3                         4.824478        NaN  \n",
              "4                         4.690000        NaN  \n",
              "...                            ...        ...  \n",
              "16675                     4.824478        NaN  \n",
              "16676                     5.000000        NaN  \n",
              "16677                     4.824478        NaN  \n",
              "16678                     4.824478        NaN  \n",
              "16679                     4.824478        NaN  \n",
              "\n",
              "[16680 rows x 8 columns]"
            ],
            "text/html": [
              "\n",
              "  <div id=\"df-c70142c2-fe27-4650-af9d-e9f79b8d7a6a\">\n",
              "    <div class=\"colab-df-container\">\n",
              "      <div>\n",
              "<style scoped>\n",
              "    .dataframe tbody tr th:only-of-type {\n",
              "        vertical-align: middle;\n",
              "    }\n",
              "\n",
              "    .dataframe tbody tr th {\n",
              "        vertical-align: top;\n",
              "    }\n",
              "\n",
              "    .dataframe thead th {\n",
              "        text-align: right;\n",
              "    }\n",
              "</style>\n",
              "<table border=\"1\" class=\"dataframe\">\n",
              "  <thead>\n",
              "    <tr style=\"text-align: right;\">\n",
              "      <th></th>\n",
              "      <th>number_of_reviews</th>\n",
              "      <th>host_acceptance_rate</th>\n",
              "      <th>price</th>\n",
              "      <th>availability_365</th>\n",
              "      <th>review_scores_rating</th>\n",
              "      <th>review_scores_cleanliness</th>\n",
              "      <th>review_scores_communication</th>\n",
              "      <th>room_type</th>\n",
              "    </tr>\n",
              "  </thead>\n",
              "  <tbody>\n",
              "    <tr>\n",
              "      <th>0</th>\n",
              "      <td>0.0</td>\n",
              "      <td>100.000000</td>\n",
              "      <td>88.0</td>\n",
              "      <td>6</td>\n",
              "      <td>4.649862</td>\n",
              "      <td>4.648379</td>\n",
              "      <td>4.824478</td>\n",
              "      <td>NaN</td>\n",
              "    </tr>\n",
              "    <tr>\n",
              "      <th>1</th>\n",
              "      <td>29.0</td>\n",
              "      <td>100.000000</td>\n",
              "      <td>36.0</td>\n",
              "      <td>6</td>\n",
              "      <td>4.790000</td>\n",
              "      <td>4.520000</td>\n",
              "      <td>4.930000</td>\n",
              "      <td>NaN</td>\n",
              "    </tr>\n",
              "    <tr>\n",
              "      <th>2</th>\n",
              "      <td>8.9</td>\n",
              "      <td>100.000000</td>\n",
              "      <td>60.0</td>\n",
              "      <td>163</td>\n",
              "      <td>4.980000</td>\n",
              "      <td>4.980000</td>\n",
              "      <td>4.990000</td>\n",
              "      <td>NaN</td>\n",
              "    </tr>\n",
              "    <tr>\n",
              "      <th>3</th>\n",
              "      <td>0.0</td>\n",
              "      <td>100.000000</td>\n",
              "      <td>120.0</td>\n",
              "      <td>257</td>\n",
              "      <td>4.649862</td>\n",
              "      <td>4.648379</td>\n",
              "      <td>4.824478</td>\n",
              "      <td>NaN</td>\n",
              "    </tr>\n",
              "    <tr>\n",
              "      <th>4</th>\n",
              "      <td>8.9</td>\n",
              "      <td>84.200000</td>\n",
              "      <td>150.0</td>\n",
              "      <td>350</td>\n",
              "      <td>4.630000</td>\n",
              "      <td>4.530000</td>\n",
              "      <td>4.690000</td>\n",
              "      <td>NaN</td>\n",
              "    </tr>\n",
              "    <tr>\n",
              "      <th>...</th>\n",
              "      <td>...</td>\n",
              "      <td>...</td>\n",
              "      <td>...</td>\n",
              "      <td>...</td>\n",
              "      <td>...</td>\n",
              "      <td>...</td>\n",
              "      <td>...</td>\n",
              "      <td>...</td>\n",
              "    </tr>\n",
              "    <tr>\n",
              "      <th>16675</th>\n",
              "      <td>0.0</td>\n",
              "      <td>84.200000</td>\n",
              "      <td>99.0</td>\n",
              "      <td>351</td>\n",
              "      <td>4.649862</td>\n",
              "      <td>4.648379</td>\n",
              "      <td>4.824478</td>\n",
              "      <td>NaN</td>\n",
              "    </tr>\n",
              "    <tr>\n",
              "      <th>16676</th>\n",
              "      <td>23.0</td>\n",
              "      <td>86.000000</td>\n",
              "      <td>160.0</td>\n",
              "      <td>148</td>\n",
              "      <td>5.000000</td>\n",
              "      <td>4.960000</td>\n",
              "      <td>5.000000</td>\n",
              "      <td>NaN</td>\n",
              "    </tr>\n",
              "    <tr>\n",
              "      <th>16677</th>\n",
              "      <td>0.0</td>\n",
              "      <td>84.200000</td>\n",
              "      <td>195.0</td>\n",
              "      <td>336</td>\n",
              "      <td>4.649862</td>\n",
              "      <td>4.648379</td>\n",
              "      <td>4.824478</td>\n",
              "      <td>NaN</td>\n",
              "    </tr>\n",
              "    <tr>\n",
              "      <th>16678</th>\n",
              "      <td>0.0</td>\n",
              "      <td>78.174424</td>\n",
              "      <td>60.0</td>\n",
              "      <td>288</td>\n",
              "      <td>4.649862</td>\n",
              "      <td>4.648379</td>\n",
              "      <td>4.824478</td>\n",
              "      <td>NaN</td>\n",
              "    </tr>\n",
              "    <tr>\n",
              "      <th>16679</th>\n",
              "      <td>0.0</td>\n",
              "      <td>98.000000</td>\n",
              "      <td>60.0</td>\n",
              "      <td>75</td>\n",
              "      <td>4.649862</td>\n",
              "      <td>4.648379</td>\n",
              "      <td>4.824478</td>\n",
              "      <td>NaN</td>\n",
              "    </tr>\n",
              "  </tbody>\n",
              "</table>\n",
              "<p>16680 rows × 8 columns</p>\n",
              "</div>\n",
              "      <button class=\"colab-df-convert\" onclick=\"convertToInteractive('df-c70142c2-fe27-4650-af9d-e9f79b8d7a6a')\"\n",
              "              title=\"Convert this dataframe to an interactive table.\"\n",
              "              style=\"display:none;\">\n",
              "        \n",
              "  <svg xmlns=\"http://www.w3.org/2000/svg\" height=\"24px\"viewBox=\"0 0 24 24\"\n",
              "       width=\"24px\">\n",
              "    <path d=\"M0 0h24v24H0V0z\" fill=\"none\"/>\n",
              "    <path d=\"M18.56 5.44l.94 2.06.94-2.06 2.06-.94-2.06-.94-.94-2.06-.94 2.06-2.06.94zm-11 1L8.5 8.5l.94-2.06 2.06-.94-2.06-.94L8.5 2.5l-.94 2.06-2.06.94zm10 10l.94 2.06.94-2.06 2.06-.94-2.06-.94-.94-2.06-.94 2.06-2.06.94z\"/><path d=\"M17.41 7.96l-1.37-1.37c-.4-.4-.92-.59-1.43-.59-.52 0-1.04.2-1.43.59L10.3 9.45l-7.72 7.72c-.78.78-.78 2.05 0 2.83L4 21.41c.39.39.9.59 1.41.59.51 0 1.02-.2 1.41-.59l7.78-7.78 2.81-2.81c.8-.78.8-2.07 0-2.86zM5.41 20L4 18.59l7.72-7.72 1.47 1.35L5.41 20z\"/>\n",
              "  </svg>\n",
              "      </button>\n",
              "      \n",
              "  <style>\n",
              "    .colab-df-container {\n",
              "      display:flex;\n",
              "      flex-wrap:wrap;\n",
              "      gap: 12px;\n",
              "    }\n",
              "\n",
              "    .colab-df-convert {\n",
              "      background-color: #E8F0FE;\n",
              "      border: none;\n",
              "      border-radius: 50%;\n",
              "      cursor: pointer;\n",
              "      display: none;\n",
              "      fill: #1967D2;\n",
              "      height: 32px;\n",
              "      padding: 0 0 0 0;\n",
              "      width: 32px;\n",
              "    }\n",
              "\n",
              "    .colab-df-convert:hover {\n",
              "      background-color: #E2EBFA;\n",
              "      box-shadow: 0px 1px 2px rgba(60, 64, 67, 0.3), 0px 1px 3px 1px rgba(60, 64, 67, 0.15);\n",
              "      fill: #174EA6;\n",
              "    }\n",
              "\n",
              "    [theme=dark] .colab-df-convert {\n",
              "      background-color: #3B4455;\n",
              "      fill: #D2E3FC;\n",
              "    }\n",
              "\n",
              "    [theme=dark] .colab-df-convert:hover {\n",
              "      background-color: #434B5C;\n",
              "      box-shadow: 0px 1px 3px 1px rgba(0, 0, 0, 0.15);\n",
              "      filter: drop-shadow(0px 1px 2px rgba(0, 0, 0, 0.3));\n",
              "      fill: #FFFFFF;\n",
              "    }\n",
              "  </style>\n",
              "\n",
              "      <script>\n",
              "        const buttonEl =\n",
              "          document.querySelector('#df-c70142c2-fe27-4650-af9d-e9f79b8d7a6a button.colab-df-convert');\n",
              "        buttonEl.style.display =\n",
              "          google.colab.kernel.accessAllowed ? 'block' : 'none';\n",
              "\n",
              "        async function convertToInteractive(key) {\n",
              "          const element = document.querySelector('#df-c70142c2-fe27-4650-af9d-e9f79b8d7a6a');\n",
              "          const dataTable =\n",
              "            await google.colab.kernel.invokeFunction('convertToInteractive',\n",
              "                                                     [key], {});\n",
              "          if (!dataTable) return;\n",
              "\n",
              "          const docLinkHtml = 'Like what you see? Visit the ' +\n",
              "            '<a target=\"_blank\" href=https://colab.research.google.com/notebooks/data_table.ipynb>data table notebook</a>'\n",
              "            + ' to learn more about interactive tables.';\n",
              "          element.innerHTML = '';\n",
              "          dataTable['output_type'] = 'display_data';\n",
              "          await google.colab.output.renderOutput(dataTable, element);\n",
              "          const docLink = document.createElement('div');\n",
              "          docLink.innerHTML = docLinkHtml;\n",
              "          element.appendChild(docLink);\n",
              "        }\n",
              "      </script>\n",
              "    </div>\n",
              "  </div>\n",
              "  "
            ]
          },
          "metadata": {},
          "execution_count": 11
        }
      ]
    },
    {
      "cell_type": "code",
      "source": [
        "df3['room_type'] = df1['room_type']\n",
        "df3.info()"
      ],
      "metadata": {
        "colab": {
          "base_uri": "https://localhost:8080/"
        },
        "id": "QSJw-Z0tRK_R",
        "outputId": "8ca88509-c76a-4a73-8140-60d41e1e3dd9"
      },
      "execution_count": 12,
      "outputs": [
        {
          "output_type": "stream",
          "name": "stdout",
          "text": [
            "<class 'pandas.core.frame.DataFrame'>\n",
            "RangeIndex: 16680 entries, 0 to 16679\n",
            "Data columns (total 8 columns):\n",
            " #   Column                       Non-Null Count  Dtype  \n",
            "---  ------                       --------------  -----  \n",
            " 0   number_of_reviews            16680 non-null  float64\n",
            " 1   host_acceptance_rate         16680 non-null  float64\n",
            " 2   price                        16680 non-null  float64\n",
            " 3   availability_365             16680 non-null  int64  \n",
            " 4   review_scores_rating         16680 non-null  float64\n",
            " 5   review_scores_cleanliness    16680 non-null  float64\n",
            " 6   review_scores_communication  16680 non-null  float64\n",
            " 7   room_type                    16680 non-null  object \n",
            "dtypes: float64(6), int64(1), object(1)\n",
            "memory usage: 1.0+ MB\n"
          ]
        }
      ]
    },
    {
      "cell_type": "code",
      "source": [
        "df['room_type'].unique()"
      ],
      "metadata": {
        "colab": {
          "base_uri": "https://localhost:8080/"
        },
        "id": "IZ4Zp3GRBVQc",
        "outputId": "e0f2b73c-1163-4366-c10a-5bb0412391e6"
      },
      "execution_count": 13,
      "outputs": [
        {
          "output_type": "execute_result",
          "data": {
            "text/plain": [
              "array(['Entire home/apt', 'Private room', 'Shared room', 'Hotel room'],\n",
              "      dtype=object)"
            ]
          },
          "metadata": {},
          "execution_count": 13
        }
      ]
    },
    {
      "cell_type": "code",
      "source": [
        "entire_home = df3[df3['room_type'] == 'Entire home/apt']\n",
        "private_room = df3[df3['room_type'] == 'Private room']\n",
        "hotel_room = df3[df3['room_type'] == 'Hotel room']\n",
        "shared_room = df3[df3['room_type'] == 'Shared room']"
      ],
      "metadata": {
        "id": "iGyPwSwtCdYg"
      },
      "execution_count": 14,
      "outputs": []
    },
    {
      "cell_type": "markdown",
      "source": [
        "4. Analizar la correlación que existe en cada tipo de habitación respecto a las variables siguientes, utilizando Python y Google Colab, obtener los datos y gráficos requeridos en cada caso."
      ],
      "metadata": {
        "id": "2wIQXzeYmFpx"
      }
    },
    {
      "cell_type": "markdown",
      "source": [
        "###**Correlaciones para \"entire home\"**"
      ],
      "metadata": {
        "id": "-kGmlxW5PgJm"
      }
    },
    {
      "cell_type": "code",
      "source": [
        "from sklearn.linear_model import LinearRegression\n",
        "sns.heatmap(entire_home.corr(), annot = True)"
      ],
      "metadata": {
        "id": "ikYL9XqlP4Ez",
        "colab": {
          "base_uri": "https://localhost:8080/",
          "height": 428
        },
        "outputId": "3e761ed6-c486-468f-b4b4-998ce23ca620"
      },
      "execution_count": 15,
      "outputs": [
        {
          "output_type": "execute_result",
          "data": {
            "text/plain": [
              "<matplotlib.axes._subplots.AxesSubplot at 0x7fad04635250>"
            ]
          },
          "metadata": {},
          "execution_count": 15
        },
        {
          "output_type": "display_data",
          "data": {
            "text/plain": [
              "<Figure size 432x288 with 2 Axes>"
            ],
            "image/png": "[encoded data removed]"
          },
          "metadata": {
            "needs_background": "light"
          }
        }
      ]
    },
    {
      "cell_type": "code",
      "source": [
        "Vars_Indep_entire = entire_home[['host_acceptance_rate', 'price','availability_365']]\n",
        "Var_Dep_entire = entire_home['number_of_reviews']"
      ],
      "metadata": {
        "id": "Ehpodlhz4iIn"
      },
      "execution_count": 32,
      "outputs": []
    },
    {
      "cell_type": "code",
      "source": [
        "from sklearn.linear_model import LinearRegression\n",
        "model1 = LinearRegression()\n",
        "model1.fit(X=Vars_Indep_entire, y=Var_Dep_entire)\n",
        "model1.__dict__"
      ],
      "metadata": {
        "colab": {
          "base_uri": "https://localhost:8080/"
        },
        "id": "UBv99ofN4yGI",
        "outputId": "4285da75-f620-4ba1-fa70-0445fb77316b"
      },
      "execution_count": 33,
      "outputs": [
        {
          "output_type": "execute_result",
          "data": {
            "text/plain": [
              "{'fit_intercept': True,\n",
              " 'normalize': 'deprecated',\n",
              " 'copy_X': True,\n",
              " 'n_jobs': None,\n",
              " 'positive': False,\n",
              " 'feature_names_in_': array(['host_acceptance_rate', 'price', 'availability_365'], dtype=object),\n",
              " 'n_features_in_': 3,\n",
              " 'coef_': array([0.16430746, 0.02442565, 0.00295426]),\n",
              " '_residues': 1174197.5277232341,\n",
              " 'rank_': 3,\n",
              " 'singular_': array([12748.72178725,  4025.49881664,  1015.37968255]),\n",
              " 'intercept_': -7.199547059957531}"
            ]
          },
          "metadata": {},
          "execution_count": 33
        }
      ]
    },
    {
      "cell_type": "code",
      "source": [
        "model1.score(Vars_Indep_entire, Var_Dep_entire)"
      ],
      "metadata": {
        "colab": {
          "base_uri": "https://localhost:8080/"
        },
        "id": "IgtZqmGP4501",
        "outputId": "6323323f-d0a0-4345-94b3-0d0e35b7da9f"
      },
      "execution_count": 34,
      "outputs": [
        {
          "output_type": "execute_result",
          "data": {
            "text/plain": [
              "0.04555182069803254"
            ]
          },
          "metadata": {},
          "execution_count": 34
        }
      ]
    },
    {
      "cell_type": "markdown",
      "source": [
        "###**Correlaciones para \"private room\"**"
      ],
      "metadata": {
        "id": "NhDBGDZWUX5I"
      }
    },
    {
      "cell_type": "code",
      "source": [
        "sns.heatmap(private_room.corr(), annot = True)"
      ],
      "metadata": {
        "id": "Gha1awK5UeBx",
        "colab": {
          "base_uri": "https://localhost:8080/",
          "height": 428
        },
        "outputId": "fd470ae8-10e8-4b65-93fe-343c5d453ab2"
      },
      "execution_count": 19,
      "outputs": [
        {
          "output_type": "execute_result",
          "data": {
            "text/plain": [
              "<matplotlib.axes._subplots.AxesSubplot at 0x7fad0183b190>"
            ]
          },
          "metadata": {},
          "execution_count": 19
        },
        {
          "output_type": "display_data",
          "data": {
            "text/plain": [
              "<Figure size 432x288 with 2 Axes>"
            ],
            "image/png": "[encoded data removed]"
          },
          "metadata": {
            "needs_background": "light"
          }
        }
      ]
    },
    {
      "cell_type": "code",
      "source": [
        "Vars_Indep_private = private_room[['host_acceptance_rate', 'price','availability_365']]\n",
        "Var_Dep_private = private_room['number_of_reviews']"
      ],
      "metadata": {
        "id": "WeNIEMdT5Dh3"
      },
      "execution_count": 35,
      "outputs": []
    },
    {
      "cell_type": "code",
      "source": [
        "model2 = LinearRegression()\n",
        "model2.fit(X = Vars_Indep_private, y = Var_Dep_private)\n",
        "model2.__dict__"
      ],
      "metadata": {
        "colab": {
          "base_uri": "https://localhost:8080/"
        },
        "outputId": "273d7768-d600-435a-869b-5db5275ec396",
        "id": "Bc4zt_fj5KVJ"
      },
      "execution_count": 36,
      "outputs": [
        {
          "output_type": "execute_result",
          "data": {
            "text/plain": [
              "{'fit_intercept': True,\n",
              " 'normalize': 'deprecated',\n",
              " 'copy_X': True,\n",
              " 'n_jobs': None,\n",
              " 'positive': False,\n",
              " 'feature_names_in_': array(['host_acceptance_rate', 'price', 'availability_365'], dtype=object),\n",
              " 'n_features_in_': 3,\n",
              " 'coef_': array([0.12104258, 0.01519492, 0.00804988]),\n",
              " '_residues': 690447.7837607063,\n",
              " 'rank_': 3,\n",
              " 'singular_': array([8615.66430713, 2211.15198241,  700.75439574]),\n",
              " 'intercept_': -2.9071411333762676}"
            ]
          },
          "metadata": {},
          "execution_count": 36
        }
      ]
    },
    {
      "cell_type": "code",
      "source": [
        "model2.score(Vars_Indep_private, Var_Dep_private)"
      ],
      "metadata": {
        "colab": {
          "base_uri": "https://localhost:8080/"
        },
        "id": "TG7M76kK5RR0",
        "outputId": "048073bf-3d0f-46a6-aa75-7708c2bd409c"
      },
      "execution_count": 37,
      "outputs": [
        {
          "output_type": "execute_result",
          "data": {
            "text/plain": [
              "0.030998105990950875"
            ]
          },
          "metadata": {},
          "execution_count": 37
        }
      ]
    },
    {
      "cell_type": "markdown",
      "source": [
        "###**Correlaciones para \"hotel room\"**"
      ],
      "metadata": {
        "id": "TMvjKrwoWnKi"
      }
    },
    {
      "cell_type": "code",
      "source": [
        "sns.heatmap(hotel_room.corr(), annot = True)"
      ],
      "metadata": {
        "id": "47a_n5FvWpgq",
        "colab": {
          "base_uri": "https://localhost:8080/",
          "height": 428
        },
        "outputId": "69295361-5a9f-4ecf-aed8-abcbd70fafd9"
      },
      "execution_count": 23,
      "outputs": [
        {
          "output_type": "execute_result",
          "data": {
            "text/plain": [
              "<matplotlib.axes._subplots.AxesSubplot at 0x7fad016fcf10>"
            ]
          },
          "metadata": {},
          "execution_count": 23
        },
        {
          "output_type": "display_data",
          "data": {
            "text/plain": [
              "<Figure size 432x288 with 2 Axes>"
            ],
            "image/png": "[encoded data removed]"
          },
          "metadata": {
            "needs_background": "light"
          }
        }
      ]
    },
    {
      "cell_type": "code",
      "source": [
        "Vars_Indep_hotel = hotel_room[['host_acceptance_rate', 'review_scores_cleanliness','review_scores_communication']]\n",
        "Var_Dep_hotel = hotel_room['number_of_reviews']"
      ],
      "metadata": {
        "id": "8RgsLah_5vjs"
      },
      "execution_count": 40,
      "outputs": []
    },
    {
      "cell_type": "code",
      "source": [
        "model3 = LinearRegression()\n",
        "model3.fit(X = Vars_Indep_hotel, y = Var_Dep_hotel)\n",
        "model3.__dict__"
      ],
      "metadata": {
        "colab": {
          "base_uri": "https://localhost:8080/"
        },
        "id": "omquq-Ym61as",
        "outputId": "836269cd-3cbe-43ed-9457-b79f9dccd03a"
      },
      "execution_count": 41,
      "outputs": [
        {
          "output_type": "execute_result",
          "data": {
            "text/plain": [
              "{'fit_intercept': True,\n",
              " 'normalize': 'deprecated',\n",
              " 'copy_X': True,\n",
              " 'n_jobs': None,\n",
              " 'positive': False,\n",
              " 'feature_names_in_': array(['host_acceptance_rate', 'review_scores_cleanliness',\n",
              "        'review_scores_communication'], dtype=object),\n",
              " 'n_features_in_': 3,\n",
              " 'coef_': array([  0.4141062 ,  15.74917546, -29.60363503]),\n",
              " '_residues': 19031.11662644823,\n",
              " 'rank_': 3,\n",
              " 'singular_': array([63.25466732,  2.2625057 ,  1.36928391]),\n",
              " 'intercept_': 37.70419247307413}"
            ]
          },
          "metadata": {},
          "execution_count": 41
        }
      ]
    },
    {
      "cell_type": "code",
      "source": [
        "model3.score(Vars_Indep_hotel, Var_Dep_hotel)"
      ],
      "metadata": {
        "colab": {
          "base_uri": "https://localhost:8080/"
        },
        "id": "XOJaKmGS687i",
        "outputId": "1f8a683d-9b68-45b7-966f-4bf0bbedf801"
      },
      "execution_count": 42,
      "outputs": [
        {
          "output_type": "execute_result",
          "data": {
            "text/plain": [
              "0.1251865219348116"
            ]
          },
          "metadata": {},
          "execution_count": 42
        }
      ]
    },
    {
      "cell_type": "markdown",
      "source": [
        "###**Correlaciones para \"shared room\"**"
      ],
      "metadata": {
        "id": "Cid-GStTgvbz"
      }
    },
    {
      "cell_type": "code",
      "source": [
        "sns.heatmap(shared_room.corr(), annot = True)"
      ],
      "metadata": {
        "id": "hpo2AP1Gg0bD",
        "colab": {
          "base_uri": "https://localhost:8080/",
          "height": 428
        },
        "outputId": "bbba86f9-dadb-4ce0-cf9b-0c845155ab86"
      },
      "execution_count": 43,
      "outputs": [
        {
          "output_type": "execute_result",
          "data": {
            "text/plain": [
              "<matplotlib.axes._subplots.AxesSubplot at 0x7fad0152d650>"
            ]
          },
          "metadata": {},
          "execution_count": 43
        },
        {
          "output_type": "display_data",
          "data": {
            "text/plain": [
              "<Figure size 432x288 with 2 Axes>"
            ],
            "image/png": "[encoded data removed]"
          },
          "metadata": {
            "needs_background": "light"
          }
        }
      ]
    },
    {
      "cell_type": "code",
      "source": [
        "Vars_Indep_shared = shared_room[['host_acceptance_rate', 'review_scores_rating','review_scores_cleanliness']]\n",
        "Var_Dep_shared = shared_room['number_of_reviews']"
      ],
      "metadata": {
        "id": "2AZ6sk0S6-QY"
      },
      "execution_count": 44,
      "outputs": []
    },
    {
      "cell_type": "code",
      "source": [
        "model4 = LinearRegression()\n",
        "model4.fit(X = Vars_Indep_shared, y = Var_Dep_shared)\n",
        "model4.__dict__"
      ],
      "metadata": {
        "colab": {
          "base_uri": "https://localhost:8080/"
        },
        "id": "xUq_oKSZ7MIC",
        "outputId": "e3276e14-d78c-458d-dca7-813e46b5078d"
      },
      "execution_count": 45,
      "outputs": [
        {
          "output_type": "execute_result",
          "data": {
            "text/plain": [
              "{'fit_intercept': True,\n",
              " 'normalize': 'deprecated',\n",
              " 'copy_X': True,\n",
              " 'n_jobs': None,\n",
              " 'positive': False,\n",
              " 'feature_names_in_': array(['host_acceptance_rate', 'review_scores_rating',\n",
              "        'review_scores_cleanliness'], dtype=object),\n",
              " 'n_features_in_': 3,\n",
              " 'coef_': array([  0.2572108 ,  -6.48321314, -14.27890032]),\n",
              " '_residues': 26683.88942611735,\n",
              " 'rank_': 3,\n",
              " 'singular_': array([131.4990998 ,   3.59616185,   1.57760128]),\n",
              " 'intercept_': 84.95850891953869}"
            ]
          },
          "metadata": {},
          "execution_count": 45
        }
      ]
    },
    {
      "cell_type": "code",
      "source": [
        "model4.score(Vars_Indep_shared, Var_Dep_shared)"
      ],
      "metadata": {
        "colab": {
          "base_uri": "https://localhost:8080/"
        },
        "id": "VTbVCpRh7RD4",
        "outputId": "751a4ba7-ecc3-4204-dad3-a798fac5a5c0"
      },
      "execution_count": 46,
      "outputs": [
        {
          "output_type": "execute_result",
          "data": {
            "text/plain": [
              "0.16256827474357138"
            ]
          },
          "metadata": {},
          "execution_count": 46
        }
      ]
    },
    {
      "cell_type": "markdown",
      "source": [
        "5. Crear el modelo matemático que describa de mejor manera el número de reseñas para cada tipo de alojamiento, utilizando la variable con con mayor correlación."
      ],
      "metadata": {
        "id": "8UmmQrxnhssZ"
      }
    },
    {
      "cell_type": "markdown",
      "source": [
        "Para entire home, utilizamos la variable *host_acceptance_rate, price, availability_365*\n",
        "\n",
        "$y = 0.16x_1 + 0.024x_2 + 0.003x_3 - 7.2$\n",
        "\n",
        "Para private room, utilizamos la variable *host_acceptance_rate, price, availability_365*\n",
        "\n",
        "$y = 0.121x_1 + 0.015x_2 + 0.008x_3 - 2.9$\n",
        "\n",
        "Para hotel room, utilizamos la variable *host_acceptance_rate, review_scores_cleanliness, review_scores_communication*\n",
        "\n",
        "$y = 0.414x_1 + 15.75x_2 - 29.603x_3 + 37.7$\n",
        "\n",
        "Para shared room, utilizamos la variable *host_acceptance_rate, review_scores_rating, review_scores_cleanliness*\n",
        "\n",
        "$y = 0.257x_1 - 6.483x_2 - 14.279x_3 + 84.96$"
      ],
      "metadata": {
        "id": "tDeYbqk3hRJq"
      }
    },
    {
      "cell_type": "markdown",
      "source": [
        "6. Realizar una tabla de todos los coeficientes de determinación y correlación obtenidos para cada tipo de habitación."
      ],
      "metadata": {
        "id": "KC1IREbSlz4s"
      }
    },
    {
      "cell_type": "code",
      "source": [
        "df5 = pd.DataFrame(columns = ['Room Type', 'Coef Deter', 'Coef Corr'])\n",
        "df5['Room Type'] = df['room_type'].unique()\n",
        "model_entire = LinearRegression()\n",
        "model_entire.fit(X = entire_home[['host_acceptance_rate']], y = entire_home['number_of_reviews'])\n",
        "deter_entire = model_entire.score(X = entire_home[['host_acceptance_rate']], y = entire_home['number_of_reviews'])\n",
        "corr_entire = np.sqrt(deter_entire)\n",
        "\n",
        "model_private = LinearRegression()\n",
        "model_private.fit(X = private_room[['host_acceptance_rate']], y = private_room['number_of_reviews'])\n",
        "deter_private = model_private.score(X = private_room[['host_acceptance_rate']], y = private_room['number_of_reviews'])\n",
        "corr_private = np.sqrt(deter_private)\n",
        "                      \n",
        "model_hotel = LinearRegression()\n",
        "model_hotel.fit(X = hotel_room[['review_scores_communication']], y = hotel_room['number_of_reviews'])\n",
        "deter_hotel = model_hotel.score(X = hotel_room[['review_scores_communication']], y = hotel_room['number_of_reviews'])\n",
        "corr_hotel = np.sqrt(deter_hotel)\n",
        "\n",
        "model_shared = LinearRegression()\n",
        "model_shared.fit(X = shared_room[['host_acceptance_rate']], y = shared_room['number_of_reviews'])\n",
        "deter_shared = model_shared.score(X = shared_room[['host_acceptance_rate']], y = shared_room['number_of_reviews'])\n",
        "corr_shared = np.sqrt(deter_shared)\n",
        "\n",
        "df5['Coef Deter'] = [deter_entire, deter_private, deter_hotel, deter_shared]\n",
        "df5['Coef Corr'] = [corr_entire, corr_private, corr_hotel, corr_shared]\n",
        "\n",
        "df5"
      ],
      "metadata": {
        "colab": {
          "base_uri": "https://localhost:8080/",
          "height": 175
        },
        "id": "zSFujImGl_rM",
        "outputId": "328730a1-e293-418f-c79e-5e5ec28011ed"
      },
      "execution_count": 47,
      "outputs": [
        {
          "output_type": "execute_result",
          "data": {
            "text/plain": [
              "         Room Type  Coef Deter  Coef Corr\n",
              "0  Entire home/apt    0.035668   0.188859\n",
              "1     Private room    0.020792   0.144194\n",
              "2      Shared room    0.051856   0.227718\n",
              "3       Hotel room    0.070809   0.266100"
            ],
            "text/html": [
              "\n",
              "  <div id=\"df-e1ad908a-261c-41d0-aedf-da6c5e6d884f\">\n",
              "    <div class=\"colab-df-container\">\n",
              "      <div>\n",
              "<style scoped>\n",
              "    .dataframe tbody tr th:only-of-type {\n",
              "        vertical-align: middle;\n",
              "    }\n",
              "\n",
              "    .dataframe tbody tr th {\n",
              "        vertical-align: top;\n",
              "    }\n",
              "\n",
              "    .dataframe thead th {\n",
              "        text-align: right;\n",
              "    }\n",
              "</style>\n",
              "<table border=\"1\" class=\"dataframe\">\n",
              "  <thead>\n",
              "    <tr style=\"text-align: right;\">\n",
              "      <th></th>\n",
              "      <th>Room Type</th>\n",
              "      <th>Coef Deter</th>\n",
              "      <th>Coef Corr</th>\n",
              "    </tr>\n",
              "  </thead>\n",
              "  <tbody>\n",
              "    <tr>\n",
              "      <th>0</th>\n",
              "      <td>Entire home/apt</td>\n",
              "      <td>0.035668</td>\n",
              "      <td>0.188859</td>\n",
              "    </tr>\n",
              "    <tr>\n",
              "      <th>1</th>\n",
              "      <td>Private room</td>\n",
              "      <td>0.020792</td>\n",
              "      <td>0.144194</td>\n",
              "    </tr>\n",
              "    <tr>\n",
              "      <th>2</th>\n",
              "      <td>Shared room</td>\n",
              "      <td>0.051856</td>\n",
              "      <td>0.227718</td>\n",
              "    </tr>\n",
              "    <tr>\n",
              "      <th>3</th>\n",
              "      <td>Hotel room</td>\n",
              "      <td>0.070809</td>\n",
              "      <td>0.266100</td>\n",
              "    </tr>\n",
              "  </tbody>\n",
              "</table>\n",
              "</div>\n",
              "      <button class=\"colab-df-convert\" onclick=\"convertToInteractive('df-e1ad908a-261c-41d0-aedf-da6c5e6d884f')\"\n",
              "              title=\"Convert this dataframe to an interactive table.\"\n",
              "              style=\"display:none;\">\n",
              "        \n",
              "  <svg xmlns=\"http://www.w3.org/2000/svg\" height=\"24px\"viewBox=\"0 0 24 24\"\n",
              "       width=\"24px\">\n",
              "    <path d=\"M0 0h24v24H0V0z\" fill=\"none\"/>\n",
              "    <path d=\"M18.56 5.44l.94 2.06.94-2.06 2.06-.94-2.06-.94-.94-2.06-.94 2.06-2.06.94zm-11 1L8.5 8.5l.94-2.06 2.06-.94-2.06-.94L8.5 2.5l-.94 2.06-2.06.94zm10 10l.94 2.06.94-2.06 2.06-.94-2.06-.94-.94-2.06-.94 2.06-2.06.94z\"/><path d=\"M17.41 7.96l-1.37-1.37c-.4-.4-.92-.59-1.43-.59-.52 0-1.04.2-1.43.59L10.3 9.45l-7.72 7.72c-.78.78-.78 2.05 0 2.83L4 21.41c.39.39.9.59 1.41.59.51 0 1.02-.2 1.41-.59l7.78-7.78 2.81-2.81c.8-.78.8-2.07 0-2.86zM5.41 20L4 18.59l7.72-7.72 1.47 1.35L5.41 20z\"/>\n",
              "  </svg>\n",
              "      </button>\n",
              "      \n",
              "  <style>\n",
              "    .colab-df-container {\n",
              "      display:flex;\n",
              "      flex-wrap:wrap;\n",
              "      gap: 12px;\n",
              "    }\n",
              "\n",
              "    .colab-df-convert {\n",
              "      background-color: #E8F0FE;\n",
              "      border: none;\n",
              "      border-radius: 50%;\n",
              "      cursor: pointer;\n",
              "      display: none;\n",
              "      fill: #1967D2;\n",
              "      height: 32px;\n",
              "      padding: 0 0 0 0;\n",
              "      width: 32px;\n",
              "    }\n",
              "\n",
              "    .colab-df-convert:hover {\n",
              "      background-color: #E2EBFA;\n",
              "      box-shadow: 0px 1px 2px rgba(60, 64, 67, 0.3), 0px 1px 3px 1px rgba(60, 64, 67, 0.15);\n",
              "      fill: #174EA6;\n",
              "    }\n",
              "\n",
              "    [theme=dark] .colab-df-convert {\n",
              "      background-color: #3B4455;\n",
              "      fill: #D2E3FC;\n",
              "    }\n",
              "\n",
              "    [theme=dark] .colab-df-convert:hover {\n",
              "      background-color: #434B5C;\n",
              "      box-shadow: 0px 1px 3px 1px rgba(0, 0, 0, 0.15);\n",
              "      filter: drop-shadow(0px 1px 2px rgba(0, 0, 0, 0.3));\n",
              "      fill: #FFFFFF;\n",
              "    }\n",
              "  </style>\n",
              "\n",
              "      <script>\n",
              "        const buttonEl =\n",
              "          document.querySelector('#df-e1ad908a-261c-41d0-aedf-da6c5e6d884f button.colab-df-convert');\n",
              "        buttonEl.style.display =\n",
              "          google.colab.kernel.accessAllowed ? 'block' : 'none';\n",
              "\n",
              "        async function convertToInteractive(key) {\n",
              "          const element = document.querySelector('#df-e1ad908a-261c-41d0-aedf-da6c5e6d884f');\n",
              "          const dataTable =\n",
              "            await google.colab.kernel.invokeFunction('convertToInteractive',\n",
              "                                                     [key], {});\n",
              "          if (!dataTable) return;\n",
              "\n",
              "          const docLinkHtml = 'Like what you see? Visit the ' +\n",
              "            '<a target=\"_blank\" href=https://colab.research.google.com/notebooks/data_table.ipynb>data table notebook</a>'\n",
              "            + ' to learn more about interactive tables.';\n",
              "          element.innerHTML = '';\n",
              "          dataTable['output_type'] = 'display_data';\n",
              "          await google.colab.output.renderOutput(dataTable, element);\n",
              "          const docLink = document.createElement('div');\n",
              "          docLink.innerHTML = docLinkHtml;\n",
              "          element.appendChild(docLink);\n",
              "        }\n",
              "      </script>\n",
              "    </div>\n",
              "  </div>\n",
              "  "
            ]
          },
          "metadata": {},
          "execution_count": 47
        }
      ]
    }
  ]
}